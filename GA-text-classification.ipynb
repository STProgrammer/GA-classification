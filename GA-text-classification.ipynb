{
 "cells": [
  {
   "cell_type": "markdown",
   "metadata": {},
   "source": [
    "# Graded assignment 1 - text classification using Genetic Algorithms\n",
    "## By Abdullah Karagøz\n",
    "\n",
    "In this assignmetn we'll make a binary text classifier using genetic algorithms. We will classify movie reviews from IMDB as either negative or positive. This task consists of several steps:\n",
    "\n",
    "1. Preprocessing of the text\n",
    "2. Genetich Algorithm\n",
    "3. Validation\n",
    "\n"
   ]
  },
  {
   "cell_type": "markdown",
   "metadata": {},
   "source": [
    "## 1. Preprocessing"
   ]
  },
  {
   "cell_type": "markdown",
   "metadata": {},
   "source": [
    "### 1.1 Uploading data"
   ]
  },
  {
   "cell_type": "code",
   "execution_count": 2,
   "metadata": {},
   "outputs": [
    {
     "name": "stderr",
     "output_type": "stream",
     "text": [
      "[nltk_data] Downloading package wordnet to\n",
      "[nltk_data]     C:\\Users\\abdka\\AppData\\Roaming\\nltk_data...\n",
      "[nltk_data]   Package wordnet is already up-to-date!\n",
      "[nltk_data] Downloading package punkt to\n",
      "[nltk_data]     C:\\Users\\abdka\\AppData\\Roaming\\nltk_data...\n",
      "[nltk_data]   Package punkt is already up-to-date!\n"
     ]
    }
   ],
   "source": [
    "## Upload the text\n",
    "import numpy as np\n",
    "import pandas as pd\n",
    "import nltk\n",
    "import string\n",
    "import re\n",
    "import math\n",
    "import random\n",
    "from scipy import special\n",
    "nltk.download('wordnet')\n",
    "nltk.download('punkt')\n",
    "from nltk.corpus import PlaintextCorpusReader\n",
    "from nltk import word_tokenize\n",
    "from nltk.stem.wordnet import WordNetLemmatizer"
   ]
  },
  {
   "cell_type": "code",
   "execution_count": null,
   "metadata": {},
   "outputs": [],
   "source": []
  },
  {
   "cell_type": "code",
   "execution_count": 3,
   "metadata": {},
   "outputs": [],
   "source": [
    "# File directories\n",
    "corpus_train_pos_root = 'aclImdb/train/pos/'\n",
    "corpus_train_neg_root = 'aclImdb/train/neg/'\n",
    "corpus_test_pos_root = 'aclImdb/test/pos/'\n",
    "corpus_test_neg_root = 'aclImdb/test/neg/'\n",
    "\n",
    "# Corpus file objects\n",
    "files_train_pos = PlaintextCorpusReader(corpus_train_pos_root, '.*')\n",
    "files_train_neg = PlaintextCorpusReader(corpus_train_neg_root, '.*')\n",
    "files_test_pos = PlaintextCorpusReader(corpus_test_pos_root, '.*')\n",
    "files_test_neg = PlaintextCorpusReader(corpus_test_neg_root, '.*')\n",
    "\n",
    "\n",
    "# Getting review texts, labels and rates all in arrays\n",
    "# Here we save the labels as one hot encoded arrays so it's easier to make\n",
    "# calculations in the classifier easier.\n",
    "reviews_train_pos = [files_train_pos.open(n).read() for n in files_train_pos.fileids()]\n",
    "rates_train_pos = [int(re.split(\"_|\\.\", n)[-2]) for n in files_train_pos.fileids()]\n",
    "labels_train_pos = [1] * len(reviews_train_pos)\n",
    "\n",
    "reviews_train_neg = [files_train_neg.open(n).read() for n in files_train_neg.fileids()]\n",
    "rates_train_neg = [int(re.split(\"_|\\.\", n)[-2]) for n in files_train_neg.fileids()]\n",
    "labels_train_neg = [0] * len(reviews_train_neg)\n",
    "\n",
    "reviews_test_pos = [files_test_pos.open(n).read() for n in files_test_pos.fileids()]\n",
    "rates_test_pos = [int(re.split(\"_|\\.\", n)[-2]) for n in files_test_pos.fileids()]\n",
    "labels_test_pos = [1] * len(reviews_test_pos)\n",
    "\n",
    "reviews_test_neg = [files_test_neg.open(n).read() for n in files_test_neg.fileids()]\n",
    "rates_test_neg = [int(re.split(\"_|\\.\", n)[-2]) for n in files_test_neg.fileids()]\n",
    "labels_test_neg = [0] * len(reviews_test_neg)"
   ]
  },
  {
   "cell_type": "markdown",
   "metadata": {},
   "source": [
    "### 1.2 Splitting data"
   ]
  },
  {
   "cell_type": "code",
   "execution_count": 4,
   "metadata": {},
   "outputs": [],
   "source": [
    "# Putting all into two Pandas dataframes - training set and testing set\n",
    "train_set = pd.DataFrame()\n",
    "test_set = pd.DataFrame()\n",
    "valid_set = pd.DataFrame()\n",
    "\n",
    "train_set['review'] = reviews_train_pos + reviews_train_neg\n",
    "train_set['rate'] = rates_train_pos + rates_train_neg\n",
    "train_set['label'] = labels_train_pos + labels_train_neg\n",
    "\n",
    "negs_cut = int(len(labels_test_neg)/2)\n",
    "poss_cut = int(len(labels_test_pos)/2)\n",
    "\n",
    "test_set['review'] = reviews_test_pos[:poss_cut] + reviews_test_neg[:negs_cut]\n",
    "test_set['rate'] = rates_test_pos[:poss_cut] + rates_test_neg[:negs_cut]\n",
    "test_set['label'] = labels_test_pos[:poss_cut] + labels_test_neg[:negs_cut]\n",
    "\n",
    "valid_set['review'] = reviews_test_pos[poss_cut:] + reviews_test_neg[negs_cut:]\n",
    "valid_set['rate'] = rates_test_pos[poss_cut:] + rates_test_neg[negs_cut:]\n",
    "valid_set['label'] = labels_test_pos[poss_cut:] + labels_test_neg[negs_cut:]"
   ]
  },
  {
   "cell_type": "markdown",
   "metadata": {},
   "source": [
    "### 1.3 Data exploration"
   ]
  },
  {
   "cell_type": "code",
   "execution_count": 5,
   "metadata": {},
   "outputs": [
    {
     "data": {
      "text/html": [
       "<div>\n",
       "<style scoped>\n",
       "    .dataframe tbody tr th:only-of-type {\n",
       "        vertical-align: middle;\n",
       "    }\n",
       "\n",
       "    .dataframe tbody tr th {\n",
       "        vertical-align: top;\n",
       "    }\n",
       "\n",
       "    .dataframe thead th {\n",
       "        text-align: right;\n",
       "    }\n",
       "</style>\n",
       "<table border=\"1\" class=\"dataframe\">\n",
       "  <thead>\n",
       "    <tr style=\"text-align: right;\">\n",
       "      <th></th>\n",
       "      <th>review</th>\n",
       "      <th>rate</th>\n",
       "      <th>label</th>\n",
       "    </tr>\n",
       "  </thead>\n",
       "  <tbody>\n",
       "    <tr>\n",
       "      <th>0</th>\n",
       "      <td>I went and saw this movie last night after bei...</td>\n",
       "      <td>10</td>\n",
       "      <td>1</td>\n",
       "    </tr>\n",
       "    <tr>\n",
       "      <th>1</th>\n",
       "      <td>Actor turned director Bill Paxton follows up h...</td>\n",
       "      <td>7</td>\n",
       "      <td>1</td>\n",
       "    </tr>\n",
       "    <tr>\n",
       "      <th>2</th>\n",
       "      <td>As a recreational golfer with some knowledge o...</td>\n",
       "      <td>9</td>\n",
       "      <td>1</td>\n",
       "    </tr>\n",
       "    <tr>\n",
       "      <th>3</th>\n",
       "      <td>I saw this film in a sneak preview, and it is ...</td>\n",
       "      <td>8</td>\n",
       "      <td>1</td>\n",
       "    </tr>\n",
       "    <tr>\n",
       "      <th>4</th>\n",
       "      <td>Bill Paxton has taken the true story of the 19...</td>\n",
       "      <td>8</td>\n",
       "      <td>1</td>\n",
       "    </tr>\n",
       "    <tr>\n",
       "      <th>...</th>\n",
       "      <td>...</td>\n",
       "      <td>...</td>\n",
       "      <td>...</td>\n",
       "    </tr>\n",
       "    <tr>\n",
       "      <th>12495</th>\n",
       "      <td>Killjoy 2 is the same as killjoy 1. Bad acting...</td>\n",
       "      <td>1</td>\n",
       "      <td>0</td>\n",
       "    </tr>\n",
       "    <tr>\n",
       "      <th>12496</th>\n",
       "      <td>I really don't know why I agreed to watch this...</td>\n",
       "      <td>1</td>\n",
       "      <td>0</td>\n",
       "    </tr>\n",
       "    <tr>\n",
       "      <th>12497</th>\n",
       "      <td>Cops Logan Alexander and Debbie Rochon escort ...</td>\n",
       "      <td>2</td>\n",
       "      <td>0</td>\n",
       "    </tr>\n",
       "    <tr>\n",
       "      <th>12498</th>\n",
       "      <td>Chuck Norris stars as Danny, a cop who took do...</td>\n",
       "      <td>2</td>\n",
       "      <td>0</td>\n",
       "    </tr>\n",
       "    <tr>\n",
       "      <th>12499</th>\n",
       "      <td>This film could cure sleep disorders, thats ho...</td>\n",
       "      <td>1</td>\n",
       "      <td>0</td>\n",
       "    </tr>\n",
       "  </tbody>\n",
       "</table>\n",
       "<p>12500 rows × 3 columns</p>\n",
       "</div>"
      ],
      "text/plain": [
       "                                                  review  rate  label\n",
       "0      I went and saw this movie last night after bei...    10      1\n",
       "1      Actor turned director Bill Paxton follows up h...     7      1\n",
       "2      As a recreational golfer with some knowledge o...     9      1\n",
       "3      I saw this film in a sneak preview, and it is ...     8      1\n",
       "4      Bill Paxton has taken the true story of the 19...     8      1\n",
       "...                                                  ...   ...    ...\n",
       "12495  Killjoy 2 is the same as killjoy 1. Bad acting...     1      0\n",
       "12496  I really don't know why I agreed to watch this...     1      0\n",
       "12497  Cops Logan Alexander and Debbie Rochon escort ...     2      0\n",
       "12498  Chuck Norris stars as Danny, a cop who took do...     2      0\n",
       "12499  This film could cure sleep disorders, thats ho...     1      0\n",
       "\n",
       "[12500 rows x 3 columns]"
      ]
     },
     "execution_count": 5,
     "metadata": {},
     "output_type": "execute_result"
    }
   ],
   "source": [
    "test_set"
   ]
  },
  {
   "cell_type": "code",
   "execution_count": 6,
   "metadata": {},
   "outputs": [
    {
     "name": "stdout",
     "output_type": "stream",
     "text": [
      "Most common 20 counted by appearance in nr of reviews:  [('the', 24666), ('a', 24047), ('and', 23964), ('of', 23675), ('to', 23405), ('is', 22260), ('in', 21644), ('this', 20697), ('that', 19539), ('it', 19041), ('I', 17968), ('for', 17356), ('with', 17062), ('but', 16164), ('was', 15992), ('The', 15610), ('as', 15376), ('on', 14946), ('/><br', 14665), ('have', 14011)]\n",
      "\n",
      "Most common 20 counted by word count total:  [('the', 287032), ('a', 155096), ('and', 152664), ('of', 142972), ('to', 132568), ('is', 103229), ('in', 85580), ('I', 65973), ('that', 64560), ('this', 57199), ('it', 54439), ('/><br', 50935), ('was', 46698), ('as', 42510), ('with', 41721), ('for', 41070), ('but', 33790), ('The', 33762), ('on', 30767), ('movie', 30506)]\n"
     ]
    }
   ],
   "source": [
    "# Data exploration\n",
    "# Most common words\n",
    "\n",
    "from collections import Counter\n",
    "cnt = Counter()\n",
    "cnt2 = Counter()\n",
    "for text in train_set[\"review\"].values:\n",
    "    # Counting the words\n",
    "    for word in text.split():\n",
    "        cnt[word] += 1\n",
    "    # Counting in how many reviews the word appears\n",
    "    for word in set(text.split()):\n",
    "        cnt2[word] += 1\n",
    "\n",
    "print(\"Most common 20 counted by appearance in nr of reviews: \", cnt2.most_common(20))\n",
    "print(\"\\nMost common 20 counted by word count total: \", cnt.most_common(20))\n",
    "\n",
    "# print(\"Least common 20 counted by appearance in nr of reviews: \", cnt2.most_common()[:-20])\n",
    "# print(\"\\nLeast common 20 counted by word count total: \", cnt.most_common()[:-20])\n",
    "\n"
   ]
  },
  {
   "cell_type": "code",
   "execution_count": 7,
   "metadata": {},
   "outputs": [
    {
     "data": {
      "text/plain": [
       "Text(0, 0.5, '% of documents')"
      ]
     },
     "execution_count": 7,
     "metadata": {},
     "output_type": "execute_result"
    },
    {
     "data": {
      "image/png": "[encoded data removed]",
      "text/plain": [
       "<Figure size 432x288 with 1 Axes>"
      ]
     },
     "metadata": {
      "needs_background": "light"
     },
     "output_type": "display_data"
    }
   ],
   "source": [
    "# What % of the reviews use what % of the vocab\n",
    "vocab_size = len(cnt2)\n",
    "sample_size = 25000\n",
    "\n",
    "y = [c/sample_size * 100 for (w, c) in cnt2.most_common()]\n",
    "x = [c/vocab_size * 100 for c in range(1, vocab_size+1)]\n",
    "import matplotlib.pyplot as plt\n",
    "\n",
    "fig, ax = plt.subplots()\n",
    "\n",
    "ax.plot(x, y)\n",
    "ax.set_title(\"% of the words used in % of the documents\")\n",
    "ax.set_xscale('log')\n",
    "ax.set_xlabel(\"% of vocabolary\")\n",
    "ax.set_ylabel(\"% of documents\")"
   ]
  },
  {
   "cell_type": "code",
   "execution_count": 8,
   "metadata": {},
   "outputs": [
    {
     "data": {
      "image/png": "[encoded data removed]",
      "text/plain": [
       "<Figure size 1080x360 with 2 Axes>"
      ]
     },
     "metadata": {
      "needs_background": "light"
     },
     "output_type": "display_data"
    }
   ],
   "source": [
    "# Length distribution of the reviews\n",
    "train_set['rev_lens_raw'] = train_set['review'].str.len()\n",
    "train_set['rev_lens_words'] = train_set['review'].str.split().apply(len)\n",
    "fig, ax = plt.subplots(1, 2, figsize=(15,5))\n",
    "\n",
    "ax[0].hist(train_set['rev_lens_raw'], bins='auto')\n",
    "ax[0].set_xlabel(\"Reviews\")\n",
    "ax[0].set_ylabel(\"String length\")\n",
    "ax[1].hist(train_set['rev_lens_words'], bins='auto')\n",
    "ax[1].set_xlabel(\"Reviews\")\n",
    "ax[1].set_ylabel(\"Review length\")\n",
    "\n",
    "plt.show()"
   ]
  },
  {
   "cell_type": "code",
   "execution_count": 9,
   "metadata": {},
   "outputs": [
    {
     "data": {
      "text/plain": [
       "array(['This movie is terrible but it has some good effects.',\n",
       "       \"I wouldn't rent this one even on dollar rental night.\",\n",
       "       \"You'd better choose Paul Verhoeven's even if you have watched it.\",\n",
       "       'Adrian Pasdar is excellent is this film. He makes a fascinating woman.',\n",
       "       'Ming The Merciless does a little Bardwork and a movie most foul!',\n",
       "       'Long, boring, blasphemous. Never have I been so glad to see ending credits roll.',\n",
       "       'Comment this movie is impossible. Is terrible, very improbable, bad interpretation e direction. Not look!!!!!',\n",
       "       'This is the definitive movie version of Hamlet. Branagh cuts nothing, but there are no wasted moments.',\n",
       "       'no comment - stupid movie, acting average or worse... screenplay - no sense at all... SKIP IT!',\n",
       "       \"I don't know why I like this movie so well, but I never get tired of watching it.\"],\n",
       "      dtype=object)"
      ]
     },
     "execution_count": 9,
     "metadata": {},
     "output_type": "execute_result"
    }
   ],
   "source": [
    "train_set.nsmallest(10, 'rev_lens_words')['review'].values"
   ]
  },
  {
   "cell_type": "code",
   "execution_count": 10,
   "metadata": {},
   "outputs": [],
   "source": [
    "#train_set.nlargest(1, 'rev_lens_words')['review'].values\n"
   ]
  },
  {
   "cell_type": "markdown",
   "metadata": {},
   "source": [
    "### 1.4 Preprocessing and vectorization"
   ]
  },
  {
   "cell_type": "markdown",
   "metadata": {},
   "source": [
    "#### TextPreprocessor class"
   ]
  },
  {
   "cell_type": "code",
   "execution_count": 11,
   "metadata": {
    "tags": []
   },
   "outputs": [],
   "source": [
    "# I think to put this into own .PY file and import from there\n",
    "class TextPreprocessor():\n",
    "    def __init__(self):\n",
    "        import nltk\n",
    "        import re\n",
    "        import string\n",
    "        \n",
    "        nltk.download('stopwords')\n",
    "        nltk.download('wordnet')\n",
    "        from nltk.corpus import stopwords\n",
    "        \", \".join(stopwords.words('english'))\n",
    "        from nltk.stem.wordnet import WordNetLemmatizer \n",
    "        \n",
    "        self.stop_words = set(stopwords.words('english'))\n",
    "        \n",
    "        self.punctuation = string.punctuation\n",
    "        \n",
    "        self.emoji_pattern = re.compile(\"[\"\n",
    "                                u\"\\U0001F600-\\U0001F64F\"  # emoticons\n",
    "                                u\"\\U0001F300-\\U0001F5FF\"  # symbols & pictographs\n",
    "                                u\"\\U0001F680-\\U0001F6FF\"  # transport & map symbols\n",
    "                                u\"\\U0001F1E0-\\U0001F1FF\"  # flags (iOS)\n",
    "                                u\"\\U00002702-\\U000027B0\"\n",
    "                                u\"\\U000024C2-\\U0001F251\"\n",
    "                                \"]+\", flags=re.UNICODE)\n",
    "        \n",
    "        # src : https://github.com/NeelShah18/emot/blob/master/emot/emo_unicode.py\n",
    "        self.emoticons = {\n",
    "            u\":‑\\)\":\"Happy face or smiley\",\n",
    "            u\":\\)\":\"Happy face or smiley\",\n",
    "            u\":-\\]\":\"Happy face or smiley\",\n",
    "            u\":\\]\":\"Happy face or smiley\",\n",
    "            u\":-3\":\"Happy face smiley\",\n",
    "            u\":3\":\"Happy face smiley\",\n",
    "            u\":->\":\"Happy face smiley\",\n",
    "            u\":>\":\"Happy face smiley\",\n",
    "            u\"8-\\)\":\"Happy face smiley\",\n",
    "            u\":o\\)\":\"Happy face smiley\",\n",
    "            u\":-\\}\":\"Happy face smiley\",\n",
    "            u\":\\}\":\"Happy face smiley\",\n",
    "            u\":-\\)\":\"Happy face smiley\",\n",
    "            u\":c\\)\":\"Happy face smiley\",\n",
    "            u\":\\^\\)\":\"Happy face smiley\",\n",
    "            u\"=\\]\":\"Happy face smiley\",\n",
    "            u\"=\\)\":\"Happy face smiley\"\n",
    "        }\n",
    "        \n",
    "        self.url_pattern = re.compile(r'https?://\\S+|www\\.\\S+')\n",
    "        self.html_pattern = re.compile('<.*?>')\n",
    "\n",
    "    def lower_case(self, text):\n",
    "        return str.lower(text)\n",
    "    \n",
    "    def remove_punctuation(self, text):\n",
    "        return text.translate(str.maketrans('', '', self.punctuation))\n",
    "    \n",
    "    def remove_stopwords(self, text):\n",
    "        return \" \".join([word for word in text.split() if word not in self.stop_words])\n",
    "    \n",
    "    def remove_words(self, text, freq_words):\n",
    "        return \" \".join([word for word in text.split() if word not in freq_words])\n",
    "    \n",
    "    def remove_emoji(self, text):\n",
    "        # src: https://gist.github.com/slowkow/7a7f61f495e3dbb7e3d767f97bd7304b\n",
    "        return self.emoji_pattern.sub(r'', text)\n",
    "    \n",
    "    \n",
    "    def remove_emoticons(self, text):\n",
    "        import re\n",
    "        # src : https://github.com/NeelShah18/emot/blob/master/emot/emo_unicode.py\n",
    "        emoticon_pattern = re.compile(u'(' + u'|'.join(k for k in self.emoticons) + u')')\n",
    "        return emoticon_pattern.sub(r'', text)\n",
    "    \n",
    "    def convert_emoticons(self, text):\n",
    "        # src : https://github.com/NeelShah18/emot/blob/master/emot/emo_unicode.py\n",
    "        for emot in self.emoticons:\n",
    "            text = re.sub(u'('+emot+')', \"_\".join(self.emoticons[emot].replace(\",\",\"\").split()), text)\n",
    "        return text\n",
    "    \n",
    "    def lemmatization(self, text):\n",
    "        lemmatizer = WordNetLemmatizer()\n",
    "        tokens = word_tokenize(text)\n",
    "        for i in ['v','n','a']:\n",
    "            tokens = [lemmatizer.lemmatize(word, i) for word in tokens]\n",
    "        return \" \".join(tokens)\n",
    "    \n",
    "    def expand_contractions(self, text):\n",
    "        text = re.sub(r\"i'm\", \" i am \", text)\n",
    "        text = re.sub(r\" im \", \" i am \", text)\n",
    "        text = re.sub(r\"\\: p\", \"\", text)\n",
    "        text = re.sub(r\" ive \", \" i have \", text)\n",
    "        text = re.sub(r\" he's \", \" he is \", text)\n",
    "        text = re.sub(r\" she's \", \" she is \", text)\n",
    "        text = re.sub(r\" that's \", \" that is \", text)\n",
    "        text = re.sub(r\" what's \", \" what is \", text)\n",
    "        text = re.sub(r\" where's \", \" where is \", text)\n",
    "        text = re.sub(r\" haven't \", \" have not \", text)\n",
    "        text = re.sub(r\" ur \", \" you are \", text)\n",
    "        text = re.sub(r\"\\'ll\", \" will\", text)\n",
    "        text = re.sub(r\"\\'ve\", \" have\", text)\n",
    "        text = re.sub(r\"\\'re\", \" are\", text)\n",
    "        text = re.sub(r\"\\'d\", \" would\", text)\n",
    "        text = re.sub(r\" won't \", \" will not \", text)\n",
    "        text = re.sub(r\" wouldn't \", \" would not \", text)\n",
    "        text = re.sub(r\" can't \", \" cannot \", text)\n",
    "        text = re.sub(r\" couldn't \", \" could not \", text)\n",
    "        text = re.sub(r\" don't \", \" do not \", text)\n",
    "        text = re.sub(r\" didn't \", \" did not \", text)\n",
    "        text = re.sub(r\" doesn't \", \" does not \", text)\n",
    "        text = re.sub(r\" isn't \", \" is not \", text)\n",
    "        text = re.sub(r\" it's \", \" it is \", text)\n",
    "        text = re.sub(r\" who's \", \" who is \", text)\n",
    "        text = re.sub(r\" there's \", \" there is \", text)\n",
    "        text = re.sub(r\" weren't \", \" were not \", text)\n",
    "        text = re.sub(r\" wasn't \", \" was not \", text)\n",
    "        text = re.sub(r\" ok \", \" okay \", text)\n",
    "        text = re.sub(r\" you're \", \" you are \", text)\n",
    "        text = re.sub(r\" c'mon \", \" come on \", text)\n",
    "        text = re.sub(r\"in'\", \"ing\", text)\n",
    "        text = re.sub(r\"\\'s\", \" s\", text)\n",
    "        return text\n",
    "    \n",
    "    def remove_numbers(self, text):\n",
    "        text = re.sub(r'[0-9]', '', text)\n",
    "        return text\n",
    "    \n",
    "    def remove_html_tags(self, text):\n",
    "        return self.html_pattern.sub(r'', text)\n",
    "    \n",
    "    def remove_urls(self, text):\n",
    "        return self.url_pattern.sub(r'', text)\n",
    "    \n",
    "    def process_text_vectorized(self, text):\n",
    "        text = self.lower_case(text)\n",
    "        text = self.remove_html_tags(text)\n",
    "        text = self.remove_numbers(text)\n",
    "        text = self.remove_urls(text)\n",
    "        text = self.expand_contractions(text)\n",
    "        text = self.remove_emoji(text)\n",
    "        text = self.remove_punctuation(text)\n",
    "        text = self.lemmatization(text)\n",
    "        text = self.remove_stopwords(text)\n",
    "        return text\n",
    "    \n",
    "    def preprocess_2(self, corpus, max_df, min_df, n_freq_words = 10, n_rare_words = 10):\n",
    "        \n",
    "        vecpreprop = np.vectorize(self.process_text_vectorized)\n",
    "        \n",
    "        arr1 = vecpreprop(corpus)\n",
    "        \n",
    "        from collections import Counter\n",
    "        cnt = Counter()\n",
    "        cnt2 = Counter()\n",
    "        for text in corpus:\n",
    "            # Counting the words\n",
    "            for word in text.split():\n",
    "                cnt[word] += 1\n",
    "            # Counting in how many reviews the word appears\n",
    "            for word in set(text.split()):\n",
    "                cnt2[word] += 1\n",
    "\n",
    "\n",
    "        # Removing most frequent words\n",
    "        freq_words = set([w for (w, wc) in cnt.most_common(n_freq_words)])\n",
    "        rem_freq_words = np.vectorize(self.remove_words)\n",
    "        arr2 = rem_freq_words(arr1, freq_words)\n",
    "\n",
    "        # Removing rarest words\n",
    "        rare_words = set([w for (w, wc) in cnt.most_common()[:-n_rare_words-1:-1]])\n",
    "        \n",
    "        rem_rare_words = np.vectorize(self.remove_words)\n",
    "        arr3 = rem_rare_words(arr2, rare_words)\n",
    "\n",
    "        # Remove words used in >90% and <5% of the reviews\n",
    "        curb_max_amount = len(corpus) * max_df\n",
    "        curb_min_amount = len(corpus) * min_df\n",
    "\n",
    "        curb_words = set([w for (w, wc) in cnt2.most_common() if wc > curb_max_amount or wc < curb_min_amount])\n",
    "        print(len(cnt2))\n",
    "        print(len(curb_words))\n",
    "        rem_curb_words = np.vectorize(self.remove_words)\n",
    "        arr4 = rem_curb_words(arr3, curb_words)\n",
    "        \n",
    "        return arr4\n",
    "\n",
    "        \n",
    "        \n",
    "    \n",
    "    # preprocessing IMDB reviews\n",
    "    def preprocess_imdb_reviews(self, df, max_df, min_df, n_freq_words = 10, n_rare_words = 10):\n",
    "        df['processed'] = df['review'].apply(lambda text: self.lower_case(text))\n",
    "        df['processed'] = df['processed'].apply(lambda text: self.remove_html_tags(text))\n",
    "        df['processed'] = df['processed'].apply(lambda text: self.remove_numbers(text))\n",
    "        df['processed'] = df['processed'].apply(lambda text: self.remove_urls(text))\n",
    "        df['processed'] = df['processed'].apply(lambda text: self.expand_contractions(text))\n",
    "        df['processed'] = df['processed'].apply(lambda text: self.remove_emoji(text))\n",
    "        df['processed'] = df['processed'].apply(lambda text: self.remove_punctuation(text))\n",
    "\n",
    "        df['processed'] = df['processed'].apply(lambda text: self.lemmatization(text))\n",
    "        df['processed'] = df['processed'].apply(lambda text: self.remove_stopwords(text))\n",
    "\n",
    "\n",
    "        from collections import Counter\n",
    "        cnt = Counter()\n",
    "        cnt2 = Counter()\n",
    "        for text in df['processed'].values:\n",
    "            # Counting the words\n",
    "#             for word in text.split():\n",
    "#                 cnt[word] += 1\n",
    "            # Counting in how many reviews the word appears\n",
    "            for word in set(text.split()):\n",
    "                cnt2[word] += 1\n",
    "\n",
    "\n",
    "        # Removing most frequent words\n",
    "#         freq_words = set([w for (w, wc) in cnt.most_common(n_freq_words)])\n",
    "        \n",
    "#         df['processed'] = df['processed'].apply(lambda text: self.remove_words(text, freq_words))\n",
    "\n",
    "#         # Removing rarest words\n",
    "#         rare_words = set([w for (w, wc) in cnt.most_common()[:-n_rare_words-1:-1]])\n",
    "#         df['processed'] = df['processed'].apply(lambda text: self.remove_words(text, rare_words))\n",
    "\n",
    "        # Remove words used in >90% and <5% of the reviews\n",
    "        curb_max_amount = len(df) * max_df\n",
    "        curb_min_amount = len(df) * min_df\n",
    "        curb_words = set([w for (w, wc) in cnt2.most_common() if wc > curb_max_amount or wc < curb_min_amount])\n",
    "        df['processed'] = df['processed'].apply(lambda text: self.remove_words(text, curb_words))\n",
    "\n",
    "        return df\n"
   ]
  },
  {
   "cell_type": "markdown",
   "metadata": {},
   "source": [
    "#### TF IDF Vectorizer class"
   ]
  },
  {
   "cell_type": "code",
   "execution_count": 12,
   "metadata": {
    "tags": []
   },
   "outputs": [],
   "source": [
    "# TF-IDF VECTORIZER CLASS\n",
    "import math\n",
    "from collections import Counter\n",
    "import numpy as np\n",
    "from nltk import FreqDist\n",
    "\n",
    "class TfIdfVectorizer:\n",
    "    def __init__(self, df):\n",
    "        self._idfs = self.prepare_idfs(df)\n",
    "        self._vocab = self.prepare_vocab(df)\n",
    "    \n",
    "    @property\n",
    "    def idfs(self):\n",
    "        return self._idfs\n",
    "    \n",
    "    @idfs.setter\n",
    "    def idfs(self, idfs):\n",
    "        self._idfs = idfs\n",
    "    \n",
    "    @property\n",
    "    def vocab(self):\n",
    "        return self._vocab\n",
    "    \n",
    "    @vocab.setter\n",
    "    def vocab(self, vocab):\n",
    "        self._vocab = vocab\n",
    "    \n",
    "    # Prepare and return vocab out of corpus\n",
    "    def prepare_vocab(self, df):\n",
    "        # Prepare the vocab\n",
    "        self.vocab = set(\" \".join(df['processed'].values).split())\n",
    "        self.vocab = dict.fromkeys(self.vocab, 0)\n",
    "        self.vocab.update((k, i) for i, k in enumerate(self.vocab))\n",
    "        return self.vocab\n",
    "    \n",
    "    # Prepare and return idfs out of corpus\n",
    "    def prepare_idfs(self, df):\n",
    "        # Counting how many reviews a word appears ins\n",
    "        cnt = Counter()\n",
    "        for text in df[\"processed\"].values:\n",
    "            for word in set(text.split()):\n",
    "                cnt[word] += 1\n",
    "        # Preparing the IDF vector\n",
    "        size = len(df)\n",
    "        self.idfs = dict()\n",
    "        for w, c in cnt.items():\n",
    "            self.idfs[w] = 0 if c == 0 else math.log(size / c)\n",
    "        return self.idfs\n",
    "\n",
    "\n",
    "    # TF-IDF vectorize a single text, returning an np.array\n",
    "    def tf_idf_vectorize(self, text):\n",
    "        freq_dist = FreqDist(text)\n",
    "        vector = np.zeros(len(self.vocab))\n",
    "        for w, c in freq_dist.items():\n",
    "            if w in self.vocab:\n",
    "                vector[self.vocab[w]] = c * self.idfs[w]\n",
    "        return vector\n",
    "\n",
    "\n",
    "    # One hot encode labels\n",
    "    def one_hot_encode(self, label, nr_of_labels):\n",
    "        arr = np.zeros(nr_of_labels, dtype=int)\n",
    "        arr[label] = 1\n",
    "        return arr\n",
    "\n",
    "    # Vectorize all in the dataset\n",
    "    def tf_idf_vectorize_all(self, df):\n",
    "        vectors = np.array(df['processed'].apply(lambda text: self.tf_idf_vectorize(text)).values.tolist())\n",
    "        return vectors\n",
    "    \n",
    "    # Turn all labels into one hot encoded arrays\n",
    "    def one_hot_encode_all(self, df, nr_of_labels):\n",
    "        vector = np.array(df['label'].apply(lambda label: self.one_hot_encode(label, nr_of_labels)).values.tolist())\n",
    "        return vector\n",
    "\n",
    "\n",
    "    \n",
    "\n"
   ]
  },
  {
   "cell_type": "code",
   "execution_count": 13,
   "metadata": {},
   "outputs": [
    {
     "name": "stderr",
     "output_type": "stream",
     "text": [
      "[nltk_data] Downloading package stopwords to\n",
      "[nltk_data]     C:\\Users\\abdka\\AppData\\Roaming\\nltk_data...\n",
      "[nltk_data]   Package stopwords is already up-to-date!\n",
      "[nltk_data] Downloading package wordnet to\n",
      "[nltk_data]     C:\\Users\\abdka\\AppData\\Roaming\\nltk_data...\n",
      "[nltk_data]   Package wordnet is already up-to-date!\n"
     ]
    },
    {
     "data": {
      "text/html": [
       "<div>\n",
       "<style scoped>\n",
       "    .dataframe tbody tr th:only-of-type {\n",
       "        vertical-align: middle;\n",
       "    }\n",
       "\n",
       "    .dataframe tbody tr th {\n",
       "        vertical-align: top;\n",
       "    }\n",
       "\n",
       "    .dataframe thead th {\n",
       "        text-align: right;\n",
       "    }\n",
       "</style>\n",
       "<table border=\"1\" class=\"dataframe\">\n",
       "  <thead>\n",
       "    <tr style=\"text-align: right;\">\n",
       "      <th></th>\n",
       "      <th>review</th>\n",
       "      <th>rate</th>\n",
       "      <th>label</th>\n",
       "      <th>rev_lens_raw</th>\n",
       "      <th>rev_lens_words</th>\n",
       "      <th>processed</th>\n",
       "    </tr>\n",
       "  </thead>\n",
       "  <tbody>\n",
       "    <tr>\n",
       "      <th>0</th>\n",
       "      <td>Bromwell High is a cartoon comedy. It ran at t...</td>\n",
       "      <td>9</td>\n",
       "      <td>1</td>\n",
       "      <td>806</td>\n",
       "      <td>140</td>\n",
       "      <td>high cartoon comedy run time program school li...</td>\n",
       "    </tr>\n",
       "    <tr>\n",
       "      <th>1</th>\n",
       "      <td>Homelessness (or Houselessness as George Carli...</td>\n",
       "      <td>8</td>\n",
       "      <td>1</td>\n",
       "      <td>2366</td>\n",
       "      <td>428</td>\n",
       "      <td>george state issue year never plan help street...</td>\n",
       "    </tr>\n",
       "    <tr>\n",
       "      <th>2</th>\n",
       "      <td>Brilliant over-acting by Lesley Ann Warren. Be...</td>\n",
       "      <td>10</td>\n",
       "      <td>1</td>\n",
       "      <td>841</td>\n",
       "      <td>147</td>\n",
       "      <td>brilliant overact ann warren best dramatic lad...</td>\n",
       "    </tr>\n",
       "    <tr>\n",
       "      <th>3</th>\n",
       "      <td>This is easily the most underrated film inn th...</td>\n",
       "      <td>7</td>\n",
       "      <td>1</td>\n",
       "      <td>663</td>\n",
       "      <td>124</td>\n",
       "      <td>easily underrate film inn brook cannon sure fl...</td>\n",
       "    </tr>\n",
       "    <tr>\n",
       "      <th>4</th>\n",
       "      <td>This is not the typical Mel Brooks film. It wa...</td>\n",
       "      <td>8</td>\n",
       "      <td>1</td>\n",
       "      <td>647</td>\n",
       "      <td>120</td>\n",
       "      <td>typical mel brook film much le slapstick movie...</td>\n",
       "    </tr>\n",
       "    <tr>\n",
       "      <th>...</th>\n",
       "      <td>...</td>\n",
       "      <td>...</td>\n",
       "      <td>...</td>\n",
       "      <td>...</td>\n",
       "      <td>...</td>\n",
       "      <td>...</td>\n",
       "    </tr>\n",
       "    <tr>\n",
       "      <th>24995</th>\n",
       "      <td>Towards the end of the movie, I felt it was to...</td>\n",
       "      <td>4</td>\n",
       "      <td>0</td>\n",
       "      <td>1567</td>\n",
       "      <td>280</td>\n",
       "      <td>towards end movie felt technical felt like cla...</td>\n",
       "    </tr>\n",
       "    <tr>\n",
       "      <th>24996</th>\n",
       "      <td>This is the kind of movie that my enemies cont...</td>\n",
       "      <td>3</td>\n",
       "      <td>0</td>\n",
       "      <td>859</td>\n",
       "      <td>152</td>\n",
       "      <td>kind movie enemy content watch time bloody tru...</td>\n",
       "    </tr>\n",
       "    <tr>\n",
       "      <th>24997</th>\n",
       "      <td>I saw 'Descent' last night at the Stockholm Fi...</td>\n",
       "      <td>3</td>\n",
       "      <td>0</td>\n",
       "      <td>1688</td>\n",
       "      <td>289</td>\n",
       "      <td>saw last night film festival one huge disappoi...</td>\n",
       "    </tr>\n",
       "    <tr>\n",
       "      <th>24998</th>\n",
       "      <td>Some films that you pick up for a pound turn o...</td>\n",
       "      <td>1</td>\n",
       "      <td>0</td>\n",
       "      <td>1277</td>\n",
       "      <td>232</td>\n",
       "      <td>film pick pound turn rather good rd century fi...</td>\n",
       "    </tr>\n",
       "    <tr>\n",
       "      <th>24999</th>\n",
       "      <td>This is one of the dumbest films, I've ever se...</td>\n",
       "      <td>1</td>\n",
       "      <td>0</td>\n",
       "      <td>746</td>\n",
       "      <td>139</td>\n",
       "      <td>one dumb film ever see rip nearly ever type th...</td>\n",
       "    </tr>\n",
       "  </tbody>\n",
       "</table>\n",
       "<p>25000 rows × 6 columns</p>\n",
       "</div>"
      ],
      "text/plain": [
       "                                                  review  rate  label  \\\n",
       "0      Bromwell High is a cartoon comedy. It ran at t...     9      1   \n",
       "1      Homelessness (or Houselessness as George Carli...     8      1   \n",
       "2      Brilliant over-acting by Lesley Ann Warren. Be...    10      1   \n",
       "3      This is easily the most underrated film inn th...     7      1   \n",
       "4      This is not the typical Mel Brooks film. It wa...     8      1   \n",
       "...                                                  ...   ...    ...   \n",
       "24995  Towards the end of the movie, I felt it was to...     4      0   \n",
       "24996  This is the kind of movie that my enemies cont...     3      0   \n",
       "24997  I saw 'Descent' last night at the Stockholm Fi...     3      0   \n",
       "24998  Some films that you pick up for a pound turn o...     1      0   \n",
       "24999  This is one of the dumbest films, I've ever se...     1      0   \n",
       "\n",
       "       rev_lens_raw  rev_lens_words  \\\n",
       "0               806             140   \n",
       "1              2366             428   \n",
       "2               841             147   \n",
       "3               663             124   \n",
       "4               647             120   \n",
       "...             ...             ...   \n",
       "24995          1567             280   \n",
       "24996           859             152   \n",
       "24997          1688             289   \n",
       "24998          1277             232   \n",
       "24999           746             139   \n",
       "\n",
       "                                               processed  \n",
       "0      high cartoon comedy run time program school li...  \n",
       "1      george state issue year never plan help street...  \n",
       "2      brilliant overact ann warren best dramatic lad...  \n",
       "3      easily underrate film inn brook cannon sure fl...  \n",
       "4      typical mel brook film much le slapstick movie...  \n",
       "...                                                  ...  \n",
       "24995  towards end movie felt technical felt like cla...  \n",
       "24996  kind movie enemy content watch time bloody tru...  \n",
       "24997  saw last night film festival one huge disappoi...  \n",
       "24998  film pick pound turn rather good rd century fi...  \n",
       "24999  one dumb film ever see rip nearly ever type th...  \n",
       "\n",
       "[25000 rows x 6 columns]"
      ]
     },
     "execution_count": 13,
     "metadata": {},
     "output_type": "execute_result"
    }
   ],
   "source": [
    "#Using the preprocessor\n",
    "preprocessor = TextPreprocessor()\n",
    "train_set_processed = preprocessor.preprocess_imdb_reviews(train_set, 0.85, 0.0005)\n",
    "test_set_processed = preprocessor.preprocess_imdb_reviews(test_set, 0.85, 0.0005)\n",
    "valid_set_processed = preprocessor.preprocess_imdb_reviews(valid_set, 0.85, 0.0005)\n",
    "\n",
    "train_set_processed"
   ]
  },
  {
   "cell_type": "code",
   "execution_count": 14,
   "metadata": {},
   "outputs": [],
   "source": [
    "# Get the IDF values and VOCAB vector\n",
    "vectorizer = TfIdfVectorizer(train_set_processed)\n",
    "idfs = vectorizer.idfs\n",
    "vocab = vectorizer.vocab\n",
    "\n",
    "\n",
    "# Vectorizing train set and test set\n",
    "X_train = vectorizer.tf_idf_vectorize_all(train_set_processed)\n",
    "\n",
    "X_test = vectorizer.tf_idf_vectorize_all(test_set_processed)\n",
    "\n",
    "X_valid = vectorizer.tf_idf_vectorize_all(valid_set_processed)\n",
    "\n",
    "Y_train = train_set_processed['label'].to_numpy()\n",
    "\n",
    "Y_test = test_set_processed['label'].to_numpy()\n",
    "\n",
    "Y_valid = valid_set_processed['label'].to_numpy()"
   ]
  },
  {
   "cell_type": "code",
   "execution_count": 25,
   "metadata": {},
   "outputs": [
    {
     "name": "stdout",
     "output_type": "stream",
     "text": [
      "[0. 0. 0. ... 0. 0. 0.]\n"
     ]
    }
   ],
   "source": [
    "for x in X_valid:\n",
    "    print(x)\n",
    "    break"
   ]
  },
  {
   "cell_type": "markdown",
   "metadata": {},
   "source": [
    "## 2. Set up genetic algorithm\n"
   ]
  },
  {
   "cell_type": "markdown",
   "metadata": {},
   "source": [
    "### 2.1 Classifier\n",
    "There are a lot of classifiers. I haven't any experience in most of them, just a little familiar with Neural Network thus this is what I did choose."
   ]
  },
  {
   "cell_type": "code",
   "execution_count": 107,
   "metadata": {
    "tags": []
   },
   "outputs": [],
   "source": [
    "class Classifier:\n",
    "    def __init__(self, idfs, vocab):\n",
    "        self.idfs = idfs\n",
    "        self.vocab = vocab\n",
    "        self.ws_1 = 0\n",
    "        self.ws_2 = 0\n",
    "        self.np_predictor = np.vectorize(lambda vec: self.predict(vec))\n",
    "\n",
    "    # Initializing weights\n",
    "    def init_weights(self, hidden_nodes):\n",
    "        self.ws_1 = np.random.rand(len(vocab), hidden_nodes) - 0.5\n",
    "        self.ws_2 = np.random.rand(hidden_nodes, 2) - 0.5\n",
    "        self.hn_1 = hidden_nodes\n",
    "        \n",
    "    def set_weights(self, ws_1, ws_2):\n",
    "        self.ws_1 = ws_1\n",
    "        self.ws_2 = ws_2\n",
    "        \n",
    "    def relu(self, x):\n",
    "        return (x > 0) * x\n",
    "    \n",
    "    def relu_grad(self, x):\n",
    "        return x > 0\n",
    "    \n",
    "    def sigmoid(self, x):\n",
    "        from scipy import special\n",
    "        return special.expit(x)\n",
    "    \n",
    "    def sigmoid_grad(self, x):\n",
    "        return self.sigmoid(x)*(1 - self.sigmoid(x))\n",
    "    \n",
    "    def softmax(self, x):\n",
    "        import numpy as np\n",
    "        e_x = np.exp(x - np.max(x))\n",
    "        return e_x / e_x.sum()\n",
    "        \n",
    "    def train_with_SGD(self, epochs, lr, x, y, hidden_nodes):\n",
    "        self.init_weights(hidden_nodes)\n",
    "        error_list = list()\n",
    "        mse_list = list()\n",
    "        \n",
    "        for n in range(epochs):\n",
    "            for i in range(x.shape[0]):\n",
    "                l_in = x[i:i+1]\n",
    "                l_o, l_2, l_1, s_1 = self.predict(l_in, True)\n",
    "                \n",
    "                delta_2 = l_2 - y[i:i+1]\n",
    "                delta_1 = delta_2.dot(self.ws_2.T) * self.relu_grad(l_1)\n",
    "                \n",
    "                self.ws_2 -= lr * (l_1.T.reshape(self.hn_1,1).dot(delta_2))\n",
    "                self.ws_1 -= lr * (l_in.T.reshape(x.shape[1],1).dot(delta_1))\n",
    "                \n",
    "                error = delta_2**2\n",
    "                    \n",
    "                error_list.append(error[0][0])\n",
    "            \n",
    "            mse_list.append(sum(error_list) / x.shape[0])\n",
    "            error_list = list()\n",
    "        \n",
    "        cel, output, acc = self.predict_whole_set(x, y)\n",
    "        \n",
    "        return mse_list, cel, output, acc\n",
    "                \n",
    "\n",
    "    def cross_entropy(self, p, y):\n",
    "        import numpy as np\n",
    "        return (-np.nan_to_num(np.eye(2)[y]*np.log(p))).mean() / 2\n",
    "    \n",
    "    def predict(self, x, get_all=False):\n",
    "        #forward pass/prediction\n",
    "        sum_1 = x.dot(self.ws_1)\n",
    "        layer_1 = self.relu(sum_1)\n",
    "        layer_2 = layer_1.dot(self.ws_2)\n",
    "        layer_out = self.softmax(layer_2)\n",
    "        if get_all:\n",
    "            return layer_out, layer_2, layer_1, sum_1\n",
    "        else:\n",
    "            return layer_out\n",
    "    \n",
    "    def get_accuracy(self, y, p):\n",
    "        acc = np.sum((y == np.argmax(p, axis=1))) / len(y)\n",
    "        return acc\n",
    "    \n",
    "    \n",
    "    \n",
    "    def predict_whole_set(self, x, y, get_acc = True):\n",
    "        output = np.apply_along_axis(self.predict, 1, x)\n",
    "        cel = self.cross_entropy(output, y)\n",
    "        if get_acc:\n",
    "            acc = self.get_accuracy(y, output)\n",
    "        \n",
    "        \n",
    "        if get_acc:\n",
    "            acc = self.get_accuracy(y, output)\n",
    "            return cel, output, acc\n",
    "        else:\n",
    "            return cel, output\n",
    "    \n",
    "\n",
    "        "
   ]
  },
  {
   "cell_type": "code",
   "execution_count": 303,
   "metadata": {},
   "outputs": [
    {
     "name": "stdout",
     "output_type": "stream",
     "text": [
      "10.369438482630311\n",
      "0.50008\n",
      "12499\n"
     ]
    },
    {
     "name": "stderr",
     "output_type": "stream",
     "text": [
      "<ipython-input-107-257fd46a281c>:67: RuntimeWarning: divide by zero encountered in log\n",
      "  return (-np.nan_to_num(np.eye(2)[y]*np.log(p))).mean() / 2\n",
      "<ipython-input-107-257fd46a281c>:67: RuntimeWarning: invalid value encountered in multiply\n",
      "  return (-np.nan_to_num(np.eye(2)[y]*np.log(p))).mean() / 2\n"
     ]
    },
    {
     "data": {
      "text/plain": [
       "array([[2.61716359e-21, 1.00000000e+00],\n",
       "       [1.15144101e-57, 1.00000000e+00],\n",
       "       [9.63411517e-69, 1.00000000e+00],\n",
       "       ...,\n",
       "       [4.52801953e-44, 1.00000000e+00],\n",
       "       [6.60748294e-21, 1.00000000e+00],\n",
       "       [5.53990491e-54, 1.00000000e+00]])"
      ]
     },
     "execution_count": 303,
     "metadata": {},
     "output_type": "execute_result"
    }
   ],
   "source": [
    "# Initialize classifier\n",
    "classifier = Classifier(idfs, vocab)\n",
    "classifier.init_weights(8)\n",
    "cel, p, acc = classifier.predict_whole_set(X_valid, Y_valid)\n",
    "print(cel)\n",
    "print(acc)\n",
    "print(sum(np.argmax(p, axis=1)))\n",
    "p"
   ]
  },
  {
   "cell_type": "code",
   "execution_count": 304,
   "metadata": {},
   "outputs": [],
   "source": [
    "# Training with SGD\n",
    "mse, cel, output, acc = classifier.train_with_SGD(15, 0.1, X_valid, Y_valid, 8)"
   ]
  },
  {
   "cell_type": "code",
   "execution_count": 305,
   "metadata": {},
   "outputs": [
    {
     "name": "stdout",
     "output_type": "stream",
     "text": [
      "25250181728937.277 0.5\n",
      "0.17328679513998632\n",
      "0.5\n",
      "0\n"
     ]
    },
    {
     "data": {
      "text/plain": [
       "array([[2.61716359e-21, 1.00000000e+00],\n",
       "       [1.15144101e-57, 1.00000000e+00],\n",
       "       [9.63411517e-69, 1.00000000e+00],\n",
       "       ...,\n",
       "       [4.52801953e-44, 1.00000000e+00],\n",
       "       [6.60748294e-21, 1.00000000e+00],\n",
       "       [5.53990491e-54, 1.00000000e+00]])"
      ]
     },
     "execution_count": 305,
     "metadata": {},
     "output_type": "execute_result"
    }
   ],
   "source": [
    "print(mse[0], mse[-1])\n",
    "print(cel)\n",
    "print(acc)\n",
    "print(sum(np.argmax(output, axis=1)))\n",
    "p"
   ]
  },
  {
   "cell_type": "code",
   "execution_count": 119,
   "metadata": {},
   "outputs": [
    {
     "name": "stdout",
     "output_type": "stream",
     "text": [
      "inf 0.5\n",
      "Wall time: 403 ms\n"
     ]
    },
    {
     "name": "stderr",
     "output_type": "stream",
     "text": [
      "<ipython-input-107-257fd46a281c>:67: RuntimeWarning: divide by zero encountered in log\n",
      "  return (-np.nan_to_num(np.eye(2)[y]*np.log(p))).mean() / 2\n",
      "<ipython-input-107-257fd46a281c>:67: RuntimeWarning: invalid value encountered in multiply\n",
      "  return (-np.nan_to_num(np.eye(2)[y]*np.log(p))).mean() / 2\n",
      "C:\\Users\\abdka\\anaconda3\\envs\\01basics\\lib\\site-packages\\numpy\\core\\_methods.py:160: RuntimeWarning: overflow encountered in reduce\n",
      "  ret = umr_sum(arr, axis, dtype, out, keepdims)\n"
     ]
    }
   ],
   "source": [
    "%%time\n",
    "# Test run classifier\n",
    "classifier.init_weights(8)\n",
    "cel_pre, output1, acc_pre = classifier.predict_whole_set(X_valid, Y_valid)\n",
    "print(cel_pre, acc_pre)\n",
    "\n"
   ]
  },
  {
   "cell_type": "markdown",
   "metadata": {},
   "source": [
    "### 2.2 Chromosome\n",
    "It's just some weights that'll be used for classification"
   ]
  },
  {
   "cell_type": "code",
   "execution_count": 1294,
   "metadata": {
    "tags": []
   },
   "outputs": [],
   "source": [
    "class Chromosome:\n",
    "    # x_pos and y_pos are the features of our chromosome\n",
    "    def __init__(self, ws_1, ws_2):\n",
    "        self._fitness = 0\n",
    "        self._ws_1 = ws_1\n",
    "        self._ws_2 = ws_2\n",
    "    \n",
    "    # Getters and setters\n",
    "    @property\n",
    "    def ws_1(self):\n",
    "        return self._ws_1\n",
    "    \n",
    "    @ws_1.setter\n",
    "    def ws_1(self, value):\n",
    "        self._ws_1 = value\n",
    "    \n",
    "    @property\n",
    "    def ws_2(self):\n",
    "        return self._ws_2\n",
    "    \n",
    "    @ws_2.setter\n",
    "    def ws_2(self, value):\n",
    "        self._ws_2 = value\n",
    "    \n",
    "    @property\n",
    "    def fitness(self):\n",
    "        return self._fitness\n",
    "    \n",
    "    @fitness.setter\n",
    "    def fitness(self, value):\n",
    "        self._fitness = value\n",
    "    \n",
    "    def assign_fitness(self, classifier, x, y):\n",
    "        import math\n",
    "        classifier.set_weights(self.ws_1, self.ws_2)\n",
    "        loss, _, acc = classifier.predict_whole_set(x, y, True)\n",
    "        self.fitness = acc #0 if loss <= 0 or loss == float('inf') else -math.log(1 / loss)\n",
    "    \n",
    "    # produce a new offspring from 2 parents\n",
    "    def crossover(self, other):\n",
    "        r = 0\n",
    "        \n",
    "        min_mat_1 = np.minimum(self.ws_1, other.ws_1)\n",
    "        max_mat_1 = np.maximum(self.ws_1, other.ws_1)\n",
    "        min_mat_2 = np.minimum(self.ws_2, other.ws_2)\n",
    "        max_mat_2 = np.maximum(self.ws_2, other.ws_2)\n",
    "        \n",
    "        ws_1 = np.random.uniform(min_mat_1-r, max_mat_1+r)\n",
    "        ws_2 = np.random.uniform(min_mat_2-r, max_mat_2+r) \n",
    "        \n",
    "        offspring = Chromosome(ws_1, ws_2)\n",
    "        return offspring\n",
    "\n",
    "    # mutate the individual\n",
    "    def mutate(self):\n",
    "        np.random.shuffle(self.ws_1)\n",
    "        self.ws_1 = self.ws_1 + np.random.uniform(-1, 1, size=self.ws_1.shape)\n",
    "        np.random.shuffle(self.ws_2)\n",
    "        self.ws_2 = self.ws_2 + np.random.uniform(-1, 1, size=self.ws_2.shape)\n",
    "        return\n",
    "    \n",
    "\n",
    "    \n",
    "\n"
   ]
  },
  {
   "cell_type": "markdown",
   "metadata": {},
   "source": [
    "### 2.3 Genetic Algorithm Engine"
   ]
  },
  {
   "cell_type": "code",
   "execution_count": 1295,
   "metadata": {
    "tags": []
   },
   "outputs": [],
   "source": [
    "class GAEngine:\n",
    "    def __init__(self):\n",
    "        self._population = []\n",
    "        self._generations = 0\n",
    "\n",
    "    def make_initial_population(self, population_size):       \n",
    "        for i in range(population_size):\n",
    "            ws_1, ws_2 = self.init_weights()\n",
    "            self.population.append(Chromosome(ws_1, ws_2))\n",
    "\n",
    "        \n",
    "    @property\n",
    "    def generations(self):\n",
    "        return self._generations\n",
    "    \n",
    "    @generations.setter\n",
    "    def generations(self, g):\n",
    "        self._generations = g\n",
    "    \n",
    "    @property\n",
    "    def population(self):\n",
    "        return self._population\n",
    "    \n",
    "    @population.setter\n",
    "    def population(self, p):\n",
    "        self._population = p\n",
    "    \n",
    "    \n",
    "    # Initializing weights\n",
    "    def init_weights(self):\n",
    "        hidden_nodes = 8\n",
    "        ws_1 = np.random.rand(len(vocab), hidden_nodes) - 0.5\n",
    "        ws_2 = np.random.rand(hidden_nodes, 2) - 0.5\n",
    "        return ws_1, ws_2\n",
    "    \n",
    "\n",
    "    # selection code goes here...\n",
    "    def do_crossover(self, no_of_offspring):\n",
    "        import random\n",
    "        population_size = len(self.population)\n",
    "        # Here we combine elitism selection with roulette wheel\n",
    "        # We carry ca 20 % of the most fit over to the next generation.\n",
    "        # Then we use roulette wheel because we want diversity too.\n",
    "        # We want diversity because it's hard to predict optimal weights\n",
    "        \n",
    "        # Get the top ca 20 % fittest.\n",
    "        rate_to_keep = 0.2\n",
    "        keep_nr = int(population_size * rate_to_keep)\n",
    "        self.population = sorted(self.population, key=lambda x: x.fitness)\n",
    "        new_generation = self.population[-keep_nr:]\n",
    "        \n",
    "        # new_generation = list()\n",
    "\n",
    "        # Then we make offsprings based on random choices with weights.\n",
    "        # We raise the exponent fitness to 2 to make the differences more\n",
    "        # Since we are using \"roulette wheel\" in selection, we want to increase the chance of\n",
    "        # the most fit to be selected.\n",
    "        fitness_values = [x.fitness**2 for x in self.population]\n",
    "        for i in range(no_of_offspring):\n",
    "            parent1, parent2 = random.choices(self.population, weights=fitness_values, k=2)\n",
    "            offspring = parent1.crossover(parent2)\n",
    "            new_generation.append(offspring)\n",
    "        \n",
    "        self.population = new_generation\n",
    "        return\n",
    "    \n",
    "    \n",
    "    # fitness calculation goes here...\n",
    "    def assign_fitness(self, classifier, x, y):\n",
    "        # Fitness is 987 substracted by distance to closest food\n",
    "        # We want the chromosomes close to some food to survive, not close to all foods on average.\n",
    "        for ch in self.population:\n",
    "            ch.assign_fitness(classifier, x, y)\n",
    "        return\n",
    "    \n",
    "    def get_population(self):\n",
    "        return self.population\n",
    "    \n",
    "    def get_best_chromosome(self):\n",
    "        ch = max(self.population, key=lambda x: x.fitness)\n",
    "        return ch\n",
    "    \n",
    "    def training_routine(self, init_population, nr_of_generations, \n",
    "                        no_of_mutation, rate_of_crossover, x, y, classifier):\n",
    "        self.make_initial_population(init_population)\n",
    "        self.generations = nr_of_generations\n",
    "        \n",
    "        cels = list()\n",
    "\n",
    "\n",
    "        for i in range(self.generations):\n",
    "            self.assign_fitness(classifier, x, y)\n",
    "            cels.append(self.get_best_chromosome().fitness)\n",
    "            # ca 60 % of population to do crossover\n",
    "            no_of_crossover = int(rate_of_crossover * len(self.population))\n",
    "            self.do_crossover(no_of_crossover)\n",
    "\n",
    "\n",
    "            # High number of mutations for more variations\n",
    "            for i in range(no_of_mutation):\n",
    "                index = random.randint(0, len(self.population)-1)\n",
    "                self.population[index].mutate()\n",
    "            \n",
    "            \n",
    "\n",
    "        # Assign fitness last time before getting the best chromosome\n",
    "        self.assign_fitness(classifier, x, y)\n",
    "        cels.append(self.get_best_chromosome().fitness)\n",
    "        return self.get_best_chromosome(), cels\n"
   ]
  },
  {
   "cell_type": "code",
   "execution_count": 1306,
   "metadata": {
    "tags": []
   },
   "outputs": [
    {
     "name": "stderr",
     "output_type": "stream",
     "text": [
      "<ipython-input-1219-22596ed1aaf7>:33: RuntimeWarning: divide by zero encountered in log\n",
      "  return (-np.nan_to_num(np.eye(2)[y]*np.log(p))).mean() / 2\n",
      "<ipython-input-1219-22596ed1aaf7>:33: RuntimeWarning: invalid value encountered in multiply\n",
      "  return (-np.nan_to_num(np.eye(2)[y]*np.log(p))).mean() / 2\n",
      "C:\\Users\\abdka\\anaconda3\\envs\\01basics\\lib\\site-packages\\numpy\\core\\_methods.py:160: RuntimeWarning: overflow encountered in reduce\n",
      "  ret = umr_sum(arr, axis, dtype, out, keepdims)\n"
     ]
    },
    {
     "name": "stdout",
     "output_type": "stream",
     "text": [
      "Wall time: 1min\n"
     ]
    },
    {
     "data": {
      "text/plain": [
       "[0.51416,\n",
       " 0.53072,\n",
       " 0.53072,\n",
       " 0.53952,\n",
       " 0.53952,\n",
       " 0.53952,\n",
       " 0.53952,\n",
       " 0.53952,\n",
       " 0.53952,\n",
       " 0.53896,\n",
       " 0.50616]"
      ]
     },
     "execution_count": 1306,
     "metadata": {},
     "output_type": "execute_result"
    }
   ],
   "source": [
    "%%time\n",
    "# Here I run the GA engine\n",
    "ga = GAEngine()\n",
    "gens = 10\n",
    "ch, cels = ga.training_routine(10, gens, 2, 0.8, X_test, Y_test, classifier)\n",
    "cels\n"
   ]
  },
  {
   "cell_type": "code",
   "execution_count": null,
   "metadata": {},
   "outputs": [],
   "source": []
  },
  {
   "cell_type": "code",
   "execution_count": 1307,
   "metadata": {
    "tags": []
   },
   "outputs": [
    {
     "data": {
      "image/png": "[encoded data removed]",
      "text/plain": [
       "<Figure size 432x288 with 1 Axes>"
      ]
     },
     "metadata": {
      "needs_background": "light"
     },
     "output_type": "display_data"
    }
   ],
   "source": [
    "# Plotting increase of fitness in training\n",
    "x = np.linspace(0, gens+1, gens+1)\n",
    "fig, ax = plt.subplots(1, 1)\n",
    "ax.plot(x, cels, label='fitness')\n",
    "\n",
    "plt.xlabel(\"Generations\")\n",
    "plt.ylabel(\"fitness\")\n",
    "plt.title(\"Change of fitness (fitness = accuracy\")\n",
    "\n",
    "plt.grid()\n",
    "plt.show()\n"
   ]
  },
  {
   "cell_type": "markdown",
   "metadata": {},
   "source": [
    "## 3. Validation"
   ]
  },
  {
   "cell_type": "code",
   "execution_count": 1310,
   "metadata": {},
   "outputs": [
    {
     "name": "stderr",
     "output_type": "stream",
     "text": [
      "<ipython-input-1219-22596ed1aaf7>:33: RuntimeWarning: divide by zero encountered in log\n",
      "  return (-np.nan_to_num(np.eye(2)[y]*np.log(p))).mean() / 2\n",
      "<ipython-input-1219-22596ed1aaf7>:33: RuntimeWarning: invalid value encountered in multiply\n",
      "  return (-np.nan_to_num(np.eye(2)[y]*np.log(p))).mean() / 2\n"
     ]
    }
   ],
   "source": [
    "classifier.set_weights(ch.ws_1, ch.ws_2)\n",
    "cel_post, output_post, acc_post = classifier.predict_whole_set(X_valid, Y_valid)"
   ]
  },
  {
   "cell_type": "code",
   "execution_count": 1311,
   "metadata": {},
   "outputs": [
    {
     "name": "stdout",
     "output_type": "stream",
     "text": [
      "Accuracy before training:  0.5\n",
      "Accuracy after training:  0.50848\n",
      "CEL before training 6.597198386572049\n",
      "CEL after training inf\n"
     ]
    }
   ],
   "source": [
    "print(\"Accuracy before training: \", acc_pre)\n",
    "print(\"Accuracy after training: \", acc_post)\n",
    "print(\"CEL before training\", cel_pre)\n",
    "print(\"CEL after training\", cel_post)"
   ]
  },
  {
   "cell_type": "code",
   "execution_count": 103,
   "metadata": {},
   "outputs": [
    {
     "name": "stderr",
     "output_type": "stream",
     "text": [
      "<ipython-input-103-b4c45037dd8a>:5: VisibleDeprecationWarning: Creating an ndarray from ragged nested sequences (which is a list-or-tuple of lists-or-tuples-or ndarrays with different lengths or shapes) is deprecated. If you meant to do this, you must specify 'dtype=object' when creating the ndarray\n",
      "  nparr3 = np.array([arr1, arr2, arr3])\n"
     ]
    },
    {
     "data": {
      "text/plain": [
       "array([[1, 3],\n",
       "       [3, 4],\n",
       "       [3, 4],\n",
       "       [3, 2],\n",
       "       [2, 1],\n",
       "       [9, 3]])"
      ]
     },
     "execution_count": 103,
     "metadata": {},
     "output_type": "execute_result"
    }
   ],
   "source": [
    "arr1 = [1,2,3]\n",
    "arr2 = [4,5]\n",
    "arr3 = [7,8, 9,10]\n",
    "\n",
    "nparr3 = np.array([arr1, arr2, arr3])\n",
    "nparr = np.array([[1,2,3],[3,4,5],[4,5,6]])\n",
    "nparr2 = np.array([[1, 3],[3, 4],[3,4],[3,2],[2,1],[9,3]])\n",
    "\n",
    "np.argmax(nparr2, axis=1)\n",
    "nparr2"
   ]
  },
  {
   "cell_type": "code",
   "execution_count": null,
   "metadata": {},
   "outputs": [],
   "source": [
    "np.random.rand(3, 2)"
   ]
  },
  {
   "cell_type": "code",
   "execution_count": null,
   "metadata": {},
   "outputs": [],
   "source": [
    "starr = np.array([\"thIs is Good\", \"this is BAD\", \"this is NOT so good\"])\n",
    "\n",
    "class test:\n",
    "    def __init__(self):\n",
    "        return\n",
    "    \n",
    "    def func(self, x, y):\n",
    "        x = x + y\n",
    "        return str.lower(x)\n",
    "    \n",
    "\n",
    "t = test()\n",
    "\n",
    "vecfunc = np.vectorize(t.func)\n",
    "\n",
    "vecfunc(starr, \"aaa\")"
   ]
  },
  {
   "cell_type": "code",
   "execution_count": null,
   "metadata": {},
   "outputs": [],
   "source": [
    "np.char.split(starr)"
   ]
  },
  {
   "cell_type": "code",
   "execution_count": null,
   "metadata": {},
   "outputs": [],
   "source": [
    "yy = [0, 1, 1]\n",
    "zz = [[0.5, 0.9],[0.5, 0.9], [0.5, 0.9]]\n",
    "np.eye(2)[yy]\n",
    "#-np.nan_to_num(yy*np.log(zz))"
   ]
  },
  {
   "cell_type": "code",
   "execution_count": null,
   "metadata": {},
   "outputs": [],
   "source": [
    "-np.log(0.9)"
   ]
  },
  {
   "cell_type": "code",
   "execution_count": null,
   "metadata": {},
   "outputs": [],
   "source": [
    "x = \"aaa\"\n",
    "y = x + \"bb\"\n",
    "y"
   ]
  },
  {
   "cell_type": "code",
   "execution_count": null,
   "metadata": {},
   "outputs": [],
   "source": [
    "%%time\n",
    "\" \".join(train_set['reviews'].values)"
   ]
  },
  {
   "cell_type": "code",
   "execution_count": null,
   "metadata": {},
   "outputs": [],
   "source": []
  }
 ],
 "metadata": {
  "kernelspec": {
   "display_name": "Python 3",
   "language": "python",
   "name": "python3"
  },
  "language_info": {
   "codemirror_mode": {
    "name": "ipython",
    "version": 3
   },
   "file_extension": ".py",
   "mimetype": "text/x-python",
   "name": "python",
   "nbconvert_exporter": "python",
   "pygments_lexer": "ipython3",
   "version": "3.8.5"
  }
 },
 "nbformat": 4,
 "nbformat_minor": 4
}
