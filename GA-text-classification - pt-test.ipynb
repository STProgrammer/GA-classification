{
 "cells": [
  {
   "cell_type": "markdown",
   "metadata": {},
   "source": [
    "# Graded assignment 1 - text classification using Genetic Algorithms\n",
    "\n",
    "In this assignmetn we'll make a binary text classifier using genetic algorithms. We will classify movie reviews from IMDB as either negative or positive. This task consists of several steps:\n",
    "\n",
    "1. Preprocessing of the text\n",
    "2. Genetich Algorithm\n",
    "3. Validation\n",
    "\n"
   ]
  },
  {
   "cell_type": "markdown",
   "metadata": {},
   "source": [
    "## 1. Preprocessing"
   ]
  },
  {
   "cell_type": "markdown",
   "metadata": {},
   "source": [
    "### 1.1 Uploading data"
   ]
  },
  {
   "cell_type": "code",
   "execution_count": 1,
   "metadata": {},
   "outputs": [
    {
     "name": "stderr",
     "output_type": "stream",
     "text": [
      "[nltk_data] Downloading package wordnet to\n",
      "[nltk_data]     C:\\Users\\abdka\\AppData\\Roaming\\nltk_data...\n",
      "[nltk_data]   Package wordnet is already up-to-date!\n",
      "[nltk_data] Downloading package punkt to\n",
      "[nltk_data]     C:\\Users\\abdka\\AppData\\Roaming\\nltk_data...\n",
      "[nltk_data]   Package punkt is already up-to-date!\n"
     ]
    }
   ],
   "source": [
    "## Upload the text\n",
    "import numpy as np\n",
    "import pandas as pd\n",
    "import nltk\n",
    "import string\n",
    "import re\n",
    "import math\n",
    "import random\n",
    "from scipy import special\n",
    "nltk.download('wordnet')\n",
    "nltk.download('punkt')\n",
    "from nltk.corpus import PlaintextCorpusReader\n",
    "from nltk import word_tokenize\n",
    "from nltk.stem.wordnet import WordNetLemmatizer"
   ]
  },
  {
   "cell_type": "code",
   "execution_count": 2,
   "metadata": {},
   "outputs": [],
   "source": [
    "# File directories\n",
    "corpus_train_pos_root = 'aclImdb/train/pos/'\n",
    "corpus_train_neg_root = 'aclImdb/train/neg/'\n",
    "corpus_test_pos_root = 'aclImdb/test/pos/'\n",
    "corpus_test_neg_root = 'aclImdb/test/neg/'\n",
    "\n",
    "# Corpus file objects\n",
    "files_train_pos = PlaintextCorpusReader(corpus_train_pos_root, '.*')\n",
    "files_train_neg = PlaintextCorpusReader(corpus_train_neg_root, '.*')\n",
    "files_test_pos = PlaintextCorpusReader(corpus_test_pos_root, '.*')\n",
    "files_test_neg = PlaintextCorpusReader(corpus_test_neg_root, '.*')\n",
    "\n",
    "\n",
    "# Getting review texts, labels and rates all in arrays\n",
    "reviews_train_pos = [files_train_pos.open(n).read() for n in files_train_pos.fileids()]\n",
    "rates_train_pos = [int(re.split(\"_|\\.\", n)[-2]) for n in files_train_pos.fileids()]\n",
    "labels_train_pos = [1] * len(reviews_train_pos)\n",
    "\n",
    "reviews_train_neg = [files_train_neg.open(n).read() for n in files_train_neg.fileids()]\n",
    "rates_train_neg = [int(re.split(\"_|\\.\", n)[-2]) for n in files_train_neg.fileids()]\n",
    "labels_train_neg = [0] * len(reviews_train_neg)\n",
    "\n",
    "reviews_test_pos = [files_test_pos.open(n).read() for n in files_test_pos.fileids()]\n",
    "rates_test_pos = [int(re.split(\"_|\\.\", n)[-2]) for n in files_test_pos.fileids()]\n",
    "labels_test_pos = [1] * len(reviews_test_pos)\n",
    "\n",
    "reviews_test_neg = [files_test_neg.open(n).read() for n in files_test_neg.fileids()]\n",
    "rates_test_neg = [int(re.split(\"_|\\.\", n)[-2]) for n in files_test_neg.fileids()]\n",
    "labels_test_neg = [0] * len(reviews_test_neg)"
   ]
  },
  {
   "cell_type": "markdown",
   "metadata": {},
   "source": [
    "### 1.2 Splitting data"
   ]
  },
  {
   "cell_type": "code",
   "execution_count": 3,
   "metadata": {},
   "outputs": [
    {
     "data": {
      "text/html": [
       "<div>\n",
       "<style scoped>\n",
       "    .dataframe tbody tr th:only-of-type {\n",
       "        vertical-align: middle;\n",
       "    }\n",
       "\n",
       "    .dataframe tbody tr th {\n",
       "        vertical-align: top;\n",
       "    }\n",
       "\n",
       "    .dataframe thead th {\n",
       "        text-align: right;\n",
       "    }\n",
       "</style>\n",
       "<table border=\"1\" class=\"dataframe\">\n",
       "  <thead>\n",
       "    <tr style=\"text-align: right;\">\n",
       "      <th></th>\n",
       "      <th>review</th>\n",
       "      <th>rate</th>\n",
       "      <th>label</th>\n",
       "    </tr>\n",
       "  </thead>\n",
       "  <tbody>\n",
       "    <tr>\n",
       "      <th>0</th>\n",
       "      <td>I can't for the life of me remember why--I mus...</td>\n",
       "      <td>1</td>\n",
       "      <td>0</td>\n",
       "    </tr>\n",
       "    <tr>\n",
       "      <th>1</th>\n",
       "      <td>What I wouldn't do to give this film a re-writ...</td>\n",
       "      <td>4</td>\n",
       "      <td>0</td>\n",
       "    </tr>\n",
       "    <tr>\n",
       "      <th>2</th>\n",
       "      <td>Well, the Sci-Fi channel keeps churning these ...</td>\n",
       "      <td>2</td>\n",
       "      <td>0</td>\n",
       "    </tr>\n",
       "    <tr>\n",
       "      <th>3</th>\n",
       "      <td>1st watched 6/18/2009  2 out of 10 (Dir- Pete...</td>\n",
       "      <td>2</td>\n",
       "      <td>0</td>\n",
       "    </tr>\n",
       "    <tr>\n",
       "      <th>4</th>\n",
       "      <td>I recall seeing this movie as a kid. I don't r...</td>\n",
       "      <td>10</td>\n",
       "      <td>1</td>\n",
       "    </tr>\n",
       "    <tr>\n",
       "      <th>...</th>\n",
       "      <td>...</td>\n",
       "      <td>...</td>\n",
       "      <td>...</td>\n",
       "    </tr>\n",
       "    <tr>\n",
       "      <th>34995</th>\n",
       "      <td>This is the last of four swashbucklers from Fr...</td>\n",
       "      <td>7</td>\n",
       "      <td>1</td>\n",
       "    </tr>\n",
       "    <tr>\n",
       "      <th>34996</th>\n",
       "      <td>The easiest way to describe this movie is as a...</td>\n",
       "      <td>3</td>\n",
       "      <td>0</td>\n",
       "    </tr>\n",
       "    <tr>\n",
       "      <th>34997</th>\n",
       "      <td>What a ridiculous waste of time and money!!!! ...</td>\n",
       "      <td>1</td>\n",
       "      <td>0</td>\n",
       "    </tr>\n",
       "    <tr>\n",
       "      <th>34998</th>\n",
       "      <td>I saw this back in '94 when it was finally rel...</td>\n",
       "      <td>4</td>\n",
       "      <td>0</td>\n",
       "    </tr>\n",
       "    <tr>\n",
       "      <th>34999</th>\n",
       "      <td>In the area of movies based off of screenplays...</td>\n",
       "      <td>10</td>\n",
       "      <td>1</td>\n",
       "    </tr>\n",
       "  </tbody>\n",
       "</table>\n",
       "<p>35000 rows × 3 columns</p>\n",
       "</div>"
      ],
      "text/plain": [
       "                                                  review  rate  label\n",
       "0      I can't for the life of me remember why--I mus...     1      0\n",
       "1      What I wouldn't do to give this film a re-writ...     4      0\n",
       "2      Well, the Sci-Fi channel keeps churning these ...     2      0\n",
       "3      1st watched 6/18/2009  2 out of 10 (Dir- Pete...     2      0\n",
       "4      I recall seeing this movie as a kid. I don't r...    10      1\n",
       "...                                                  ...   ...    ...\n",
       "34995  This is the last of four swashbucklers from Fr...     7      1\n",
       "34996  The easiest way to describe this movie is as a...     3      0\n",
       "34997  What a ridiculous waste of time and money!!!! ...     1      0\n",
       "34998  I saw this back in '94 when it was finally rel...     4      0\n",
       "34999  In the area of movies based off of screenplays...    10      1\n",
       "\n",
       "[35000 rows x 3 columns]"
      ]
     },
     "execution_count": 3,
     "metadata": {},
     "output_type": "execute_result"
    }
   ],
   "source": [
    "# Putting all into two Pandas dataframes - training set and testing set\n",
    "train_set = pd.DataFrame()\n",
    "test_set = pd.DataFrame()\n",
    "valid_set = pd.DataFrame()\n",
    "whole_set = pd.DataFrame()\n",
    "\n",
    "\n",
    "# Puttin all data into whole set\n",
    "whole_set['review'] = reviews_train_pos + reviews_test_pos + reviews_train_neg + reviews_test_neg\n",
    "whole_set['rate'] = rates_train_pos + rates_test_pos + rates_train_neg + rates_test_neg\n",
    "whole_set['label'] = labels_train_pos + labels_test_pos + labels_train_neg + labels_test_neg\n",
    "\n",
    "# Dividing reviews into negative and positive to make sure data is always balanced\n",
    "negatives = whole_set.loc[whole_set['label'] == 0]\n",
    "positives = whole_set.loc[whole_set['label'] == 1]\n",
    "\n",
    "# Splitting positive and negative reviews\n",
    "train_set, valid_set, test_set = np.split(positives, [int(0.7*len(positives)), int(0.85*len(positives))])\n",
    "tr_neg, vl_neg, ts_neg = np.split(negatives, [int(0.7*len(negatives)), int(0.85*len(negatives))])\n",
    "\n",
    "# Appending negatives to positives\n",
    "train_set = train_set.append(tr_neg)\n",
    "valid_set = valid_set.append(vl_neg)\n",
    "test_set = test_set.append(ts_neg)\n",
    "\n",
    "# Shuffle and reset the index\n",
    "train_set = train_set.sample(frac=1).reset_index(drop=True)\n",
    "valid_set = valid_set.sample(frac=1).reset_index(drop=True)\n",
    "test_set = test_set.sample(frac=1).reset_index(drop=True)\n",
    "\n",
    "train_set"
   ]
  },
  {
   "cell_type": "markdown",
   "metadata": {},
   "source": [
    "### 1.3 Data exploration"
   ]
  },
  {
   "cell_type": "code",
   "execution_count": 4,
   "metadata": {},
   "outputs": [
    {
     "data": {
      "text/plain": [
       "35000"
      ]
     },
     "execution_count": 4,
     "metadata": {},
     "output_type": "execute_result"
    }
   ],
   "source": [
    "len(train_set)"
   ]
  },
  {
   "cell_type": "code",
   "execution_count": 5,
   "metadata": {},
   "outputs": [
    {
     "name": "stdout",
     "output_type": "stream",
     "text": [
      "Most common 20 counted by appearance in nr of reviews:  [('the', 34512), ('a', 33657), ('and', 33527), ('of', 33109), ('to', 32761), ('is', 31043), ('in', 30224), ('this', 29017), ('that', 27272), ('it', 26552), ('I', 25151), ('for', 24184), ('with', 23784), ('but', 22444), ('was', 22333), ('The', 21788), ('as', 21391), ('on', 20873), ('/><br', 20460), ('have', 19648)]\n",
      "\n",
      "Most common 20 counted by word count total:  [('the', 398431), ('a', 215543), ('and', 211791), ('of', 198887), ('to', 183609), ('is', 142852), ('in', 119064), ('I', 92383), ('that', 89328), ('this', 79871), ('it', 75658), ('/><br', 71081), ('was', 64813), ('as', 58564), ('with', 57992), ('for', 56780), ('The', 46966), ('but', 46488), ('on', 42896), ('movie', 42730)]\n"
     ]
    }
   ],
   "source": [
    "# Data exploration\n",
    "# Most common words\n",
    "\n",
    "from collections import Counter\n",
    "cnt = Counter()\n",
    "cnt2 = Counter()\n",
    "for text in train_set[\"review\"].values:\n",
    "    # Counting the words\n",
    "    for word in text.split():\n",
    "        cnt[word] += 1\n",
    "    # Counting in how many reviews the word appears\n",
    "    for word in set(text.split()):\n",
    "        cnt2[word] += 1\n",
    "\n",
    "print(\"Most common 20 counted by appearance in nr of reviews: \", cnt2.most_common(20))\n",
    "print(\"\\nMost common 20 counted by word count total: \", cnt.most_common(20))\n",
    "\n",
    "# print(\"Least common 20 counted by appearance in nr of reviews: \", cnt2.most_common()[:-20])\n",
    "# print(\"\\nLeast common 20 counted by word count total: \", cnt.most_common()[:-20])\n",
    "\n"
   ]
  },
  {
   "cell_type": "code",
   "execution_count": 6,
   "metadata": {},
   "outputs": [
    {
     "data": {
      "text/plain": [
       "Text(0, 0.5, '% of documents')"
      ]
     },
     "execution_count": 6,
     "metadata": {},
     "output_type": "execute_result"
    },
    {
     "data": {
      "image/png": "[encoded data removed]",
      "text/plain": [
       "<Figure size 432x288 with 1 Axes>"
      ]
     },
     "metadata": {
      "needs_background": "light"
     },
     "output_type": "display_data"
    }
   ],
   "source": [
    "# What % of the reviews use what % of the vocab\n",
    "vocab_size = len(cnt2)\n",
    "sample_size = len(train_set)\n",
    "\n",
    "y = [c/sample_size * 100 for (w, c) in cnt2.most_common()]\n",
    "x = [c/vocab_size * 100 for c in range(1, vocab_size+1)]\n",
    "import matplotlib.pyplot as plt\n",
    "\n",
    "fig, ax = plt.subplots()\n",
    "\n",
    "ax.plot(x, y)\n",
    "ax.set_title(\"% of the words used in % of the documents\")\n",
    "ax.set_xscale('log')\n",
    "ax.set_xlabel(\"% of vocabolary\")\n",
    "ax.set_ylabel(\"% of documents\")"
   ]
  },
  {
   "cell_type": "code",
   "execution_count": 16,
   "metadata": {},
   "outputs": [
    {
     "data": {
      "image/png": "[encoded data removed]",
      "text/plain": [
       "<Figure size 1080x360 with 2 Axes>"
      ]
     },
     "metadata": {
      "needs_background": "light"
     },
     "output_type": "display_data"
    }
   ],
   "source": [
    "# Length distribution of the reviews\n",
    "train_set['rev_lens_raw'] = train_set['review'].str.len()\n",
    "train_set['rev_lens_words'] = train_set['review'].str.split().apply(len)\n",
    "fig, ax = plt.subplots(1, 2, figsize=(15,5))\n",
    "\n",
    "ax[0].hist(train_set['rev_lens_raw'], bins='auto')\n",
    "ax[0].set_xlabel(\"Review length in characters\")\n",
    "ax[0].set_ylabel(\"Frequency\")\n",
    "ax[1].hist(train_set['rev_lens_words'], bins='auto')\n",
    "ax[1].set_xlabel(\"Review length in words\")\n",
    "ax[1].set_ylabel(\"Frequency\")\n",
    "\n",
    "plt.show()"
   ]
  },
  {
   "cell_type": "code",
   "execution_count": 8,
   "metadata": {},
   "outputs": [
    {
     "data": {
      "text/plain": [
       "array(['I hope this group of film-makers never re-unites.',\n",
       "       \"I wouldn't rent this one even on dollar rental night.\",\n",
       "       'Brilliant and moving performances by Tom Courtenay and Peter Finch.',\n",
       "       'This movie is terrible but it has some good effects.',\n",
       "       \"You'd better choose Paul Verhoeven's even if you have watched it.\",\n",
       "       'Ming The Merciless does a little Bardwork and a movie most foul!',\n",
       "       'Adrian Pasdar is excellent is this film. He makes a fascinating woman.',\n",
       "       'Long, boring, blasphemous. Never have I been so glad to see ending credits roll.',\n",
       "       'This is a great movie. Too bad it is not available on home video.',\n",
       "       'Comment this movie is impossible. Is terrible, very improbable, bad interpretation e direction. Not look!!!!!'],\n",
       "      dtype=object)"
      ]
     },
     "execution_count": 8,
     "metadata": {},
     "output_type": "execute_result"
    }
   ],
   "source": [
    "# Shortest reviews\n",
    "train_set.nsmallest(10, 'rev_lens_words')['review'].values"
   ]
  },
  {
   "cell_type": "code",
   "execution_count": 17,
   "metadata": {},
   "outputs": [],
   "source": [
    "# Drop reviews that are very long\n",
    "#train_set = train_set.loc[train_set['rev_lens_word'] < 1800]\n",
    "#train_set.reset_index(inplace=True, drop=True)\n"
   ]
  },
  {
   "cell_type": "markdown",
   "metadata": {},
   "source": [
    "### 1.4 Preprocessing and vectorization"
   ]
  },
  {
   "cell_type": "markdown",
   "metadata": {},
   "source": [
    "#### 1.4.1 TextPreprocessor class"
   ]
  },
  {
   "cell_type": "code",
   "execution_count": 37,
   "metadata": {
    "tags": []
   },
   "outputs": [],
   "source": [
    "# I think to put this into own .PY file and import from there\n",
    "class TextPreprocessor():\n",
    "    def __init__(self):\n",
    "        import nltk\n",
    "        import re\n",
    "        import string\n",
    "        \n",
    "        nltk.download('stopwords')\n",
    "        nltk.download('wordnet')\n",
    "        from nltk.corpus import stopwords\n",
    "        \", \".join(stopwords.words('english'))\n",
    "        from nltk.stem.wordnet import WordNetLemmatizer \n",
    "        \n",
    "        self.stop_words = set(stopwords.words('english'))\n",
    "        \n",
    "        self.punctuation = string.punctuation\n",
    "        \n",
    "        self.emoji_pattern = re.compile(\"[\"\n",
    "                                u\"\\U0001F600-\\U0001F64F\"  # emoticons\n",
    "                                u\"\\U0001F300-\\U0001F5FF\"  # symbols & pictographs\n",
    "                                u\"\\U0001F680-\\U0001F6FF\"  # transport & map symbols\n",
    "                                u\"\\U0001F1E0-\\U0001F1FF\"  # flags (iOS)\n",
    "                                u\"\\U00002702-\\U000027B0\"\n",
    "                                u\"\\U000024C2-\\U0001F251\"\n",
    "                                \"]+\", flags=re.UNICODE)\n",
    "        \n",
    "        # src : https://github.com/NeelShah18/emot/blob/master/emot/emo_unicode.py\n",
    "        self.emoticons = {\n",
    "            u\":‑\\)\":\"Happy face or smiley\",\n",
    "            u\":\\)\":\"Happy face or smiley\",\n",
    "            u\":-\\]\":\"Happy face or smiley\",\n",
    "            u\":\\]\":\"Happy face or smiley\",\n",
    "            u\":-3\":\"Happy face smiley\",\n",
    "            u\":3\":\"Happy face smiley\",\n",
    "            u\":->\":\"Happy face smiley\",\n",
    "            u\":>\":\"Happy face smiley\",\n",
    "            u\"8-\\)\":\"Happy face smiley\",\n",
    "            u\":o\\)\":\"Happy face smiley\",\n",
    "            u\":-\\}\":\"Happy face smiley\",\n",
    "            u\":\\}\":\"Happy face smiley\",\n",
    "            u\":-\\)\":\"Happy face smiley\",\n",
    "            u\":c\\)\":\"Happy face smiley\",\n",
    "            u\":\\^\\)\":\"Happy face smiley\",\n",
    "            u\"=\\]\":\"Happy face smiley\",\n",
    "            u\"=\\)\":\"Happy face smiley\"\n",
    "        }\n",
    "        \n",
    "        self.url_pattern = re.compile(r'https?://\\S+|www\\.\\S+')\n",
    "        self.html_pattern = re.compile('<.*?>')\n",
    "\n",
    "    def lower_case(self, text):\n",
    "        return str.lower(text)\n",
    "    \n",
    "    def remove_punctuation(self, text):\n",
    "        return text.translate(str.maketrans('', '', self.punctuation))\n",
    "    \n",
    "    def remove_stopwords(self, text):\n",
    "        return \" \".join([word for word in text.split() if word not in self.stop_words])\n",
    "    \n",
    "    def remove_words(self, text, freq_words):\n",
    "        return \" \".join([word for word in text.split() if word not in freq_words])\n",
    "    \n",
    "    def remove_emoji(self, text):\n",
    "        # src: https://gist.github.com/slowkow/7a7f61f495e3dbb7e3d767f97bd7304b\n",
    "        return self.emoji_pattern.sub(r'', text)\n",
    "    \n",
    "    \n",
    "    def remove_emoticons(self, text):\n",
    "        import re\n",
    "        # src : https://github.com/NeelShah18/emot/blob/master/emot/emo_unicode.py\n",
    "        emoticon_pattern = re.compile(u'(' + u'|'.join(k for k in self.emoticons) + u')')\n",
    "        return emoticon_pattern.sub(r'', text)\n",
    "    \n",
    "    def convert_emoticons(self, text):\n",
    "        # src : https://github.com/NeelShah18/emot/blob/master/emot/emo_unicode.py\n",
    "        for emot in self.emoticons:\n",
    "            text = re.sub(u'('+emot+')', \"_\".join(self.emoticons[emot].replace(\",\",\"\").split()), text)\n",
    "        return text\n",
    "    \n",
    "    def lemmatization(self, text):\n",
    "        lemmatizer = WordNetLemmatizer()\n",
    "        tokens = word_tokenize(text)\n",
    "        for i in ['v','n','a']:\n",
    "            tokens = [lemmatizer.lemmatize(word, i) for word in tokens]\n",
    "        return \" \".join(tokens)\n",
    "    \n",
    "    def expand_contractions(self, text):\n",
    "        text = re.sub(r\"i'm\", \" i am \", text)\n",
    "        text = re.sub(r\" im \", \" i am \", text)\n",
    "        text = re.sub(r\"\\: p\", \"\", text)\n",
    "        text = re.sub(r\" ive \", \" i have \", text)\n",
    "        text = re.sub(r\" he's \", \" he is \", text)\n",
    "        text = re.sub(r\" she's \", \" she is \", text)\n",
    "        text = re.sub(r\" that's \", \" that is \", text)\n",
    "        text = re.sub(r\" what's \", \" what is \", text)\n",
    "        text = re.sub(r\" where's \", \" where is \", text)\n",
    "        text = re.sub(r\" haven't \", \" have not \", text)\n",
    "        text = re.sub(r\" ur \", \" you are \", text)\n",
    "        text = re.sub(r\"\\'ll\", \" will\", text)\n",
    "        text = re.sub(r\"\\'ve\", \" have\", text)\n",
    "        text = re.sub(r\"\\'re\", \" are\", text)\n",
    "        text = re.sub(r\"\\'d\", \" would\", text)\n",
    "        text = re.sub(r\" won't \", \" will not \", text)\n",
    "        text = re.sub(r\" wouldn't \", \" would not \", text)\n",
    "        text = re.sub(r\" can't \", \" cannot \", text)\n",
    "        text = re.sub(r\" couldn't \", \" could not \", text)\n",
    "        text = re.sub(r\" don't \", \" do not \", text)\n",
    "        text = re.sub(r\" didn't \", \" did not \", text)\n",
    "        text = re.sub(r\" doesn't \", \" does not \", text)\n",
    "        text = re.sub(r\" isn't \", \" is not \", text)\n",
    "        text = re.sub(r\" it's \", \" it is \", text)\n",
    "        text = re.sub(r\" who's \", \" who is \", text)\n",
    "        text = re.sub(r\" there's \", \" there is \", text)\n",
    "        text = re.sub(r\" weren't \", \" were not \", text)\n",
    "        text = re.sub(r\" wasn't \", \" was not \", text)\n",
    "        text = re.sub(r\" ok \", \" okay \", text)\n",
    "        text = re.sub(r\" you're \", \" you are \", text)\n",
    "        text = re.sub(r\" c'mon \", \" come on \", text)\n",
    "        text = re.sub(r\"\\'s\", \" s\", text)\n",
    "        return text\n",
    "    \n",
    "    def remove_numbers(self, text):\n",
    "        text = re.sub(r'[0-9]', '', text)\n",
    "        return text\n",
    "    \n",
    "    def remove_html_tags(self, text):\n",
    "        return self.html_pattern.sub(r'', text)\n",
    "    \n",
    "    def remove_urls(self, text):\n",
    "        return self.url_pattern.sub(r'', text)\n",
    "    \n",
    "    def process_text_vectorized(self, text):\n",
    "        text = self.lower_case(text)\n",
    "        text = self.remove_html_tags(text)\n",
    "        text = self.remove_numbers(text)\n",
    "        text = self.remove_urls(text)\n",
    "        text = self.expand_contractions(text)\n",
    "        text = self.remove_emoji(text)\n",
    "        text = self.remove_punctuation(text)\n",
    "        text = self.lemmatization(text)\n",
    "        text = self.remove_stopwords(text)\n",
    "        return text\n",
    "    \n",
    "    def preprocess_2(self, corpus, max_df, min_df, n_freq_words = 10, n_rare_words = 10):\n",
    "        \n",
    "        vecpreprop = np.vectorize(self.process_text_vectorized)\n",
    "        \n",
    "        arr1 = vecpreprop(corpus)\n",
    "        \n",
    "        from collections import Counter\n",
    "        cnt = Counter()\n",
    "        cnt2 = Counter()\n",
    "        for text in corpus:\n",
    "            # Counting the words\n",
    "            for word in text.split():\n",
    "                cnt[word] += 1\n",
    "            # Counting in how many reviews the word appears\n",
    "            for word in set(text.split()):\n",
    "                cnt2[word] += 1\n",
    "\n",
    "\n",
    "        # Removing most frequent words\n",
    "        freq_words = set([w for (w, wc) in cnt.most_common(n_freq_words)])\n",
    "        rem_freq_words = np.vectorize(self.remove_words)\n",
    "        arr2 = rem_freq_words(arr1, freq_words)\n",
    "\n",
    "        # Removing rarest words\n",
    "        rare_words = set([w for (w, wc) in cnt.most_common()[:-n_rare_words-1:-1]])\n",
    "        \n",
    "        rem_rare_words = np.vectorize(self.remove_words)\n",
    "        arr3 = rem_rare_words(arr2, rare_words)\n",
    "\n",
    "        # Remove words used in >90% and <5% of the reviews\n",
    "        curb_max_amount = len(corpus) * max_df\n",
    "        curb_min_amount = len(corpus) * min_df\n",
    "\n",
    "        curb_words = set([w for (w, wc) in cnt2.most_common() if wc > curb_max_amount or wc < curb_min_amount])\n",
    "        print(len(cnt2))\n",
    "        print(len(curb_words))\n",
    "        rem_curb_words = np.vectorize(self.remove_words)\n",
    "        arr4 = rem_curb_words(arr3, curb_words)\n",
    "        \n",
    "        return arr4\n",
    "\n",
    "        \n",
    "        \n",
    "    \n",
    "    # preprocessing IMDB reviews\n",
    "    def preprocess_imdb_reviews(self, df, max_df, min_df, n_freq_words = 10, n_rare_words = 10):\n",
    "        df['processed'] = df['review'].apply(lambda text: self.lower_case(text))\n",
    "        df['processed'] = df['processed'].apply(lambda text: self.remove_html_tags(text))\n",
    "        df['processed'] = df['processed'].apply(lambda text: self.remove_numbers(text))\n",
    "        df['processed'] = df['processed'].apply(lambda text: self.remove_urls(text))\n",
    "        df['processed'] = df['processed'].apply(lambda text: self.expand_contractions(text))\n",
    "        df['processed'] = df['processed'].apply(lambda text: self.remove_emoji(text))\n",
    "        df['processed'] = df['processed'].apply(lambda text: self.remove_punctuation(text))\n",
    "\n",
    "        df['processed'] = df['processed'].apply(lambda text: self.lemmatization(text))\n",
    "        df['processed'] = df['processed'].apply(lambda text: self.remove_stopwords(text))\n",
    "\n",
    "\n",
    "        from collections import Counter\n",
    "        cnt = Counter()\n",
    "        cnt2 = Counter()\n",
    "        for text in df['processed'].values:\n",
    "            # Counting the words\n",
    "#             for word in text.split():\n",
    "#                 cnt[word] += 1\n",
    "            # Counting in how many reviews the word appears\n",
    "            for word in set(text.split()):\n",
    "                cnt2[word] += 1\n",
    "\n",
    "\n",
    "        # Removing most frequent words\n",
    "#         freq_words = set([w for (w, wc) in cnt.most_common(n_freq_words)])\n",
    "        \n",
    "#         df['processed'] = df['processed'].apply(lambda text: self.remove_words(text, freq_words))\n",
    "\n",
    "#         # Removing rarest words\n",
    "#         rare_words = set([w for (w, wc) in cnt.most_common()[:-n_rare_words-1:-1]])\n",
    "#         df['processed'] = df['processed'].apply(lambda text: self.remove_words(text, rare_words))\n",
    "\n",
    "        # Remove words used in >90% and <5% of the reviews\n",
    "        curb_max_amount = len(df) * max_df\n",
    "        curb_min_amount = len(df) * min_df\n",
    "        curb_words = set([w for (w, wc) in cnt2.most_common() if wc > curb_max_amount or wc < curb_min_amount])\n",
    "        df['processed'] = df['processed'].apply(lambda text: self.remove_words(text, curb_words))\n",
    "        \n",
    "        # Other words to remove\n",
    "        rem_words = [\"□\", \"▢\", \"■\", \"\\x96\", \"st\", \"nd\", \"rd\", \"th\"]\n",
    "        df['processed'] = df['processed'].apply(lambda text: self.remove_words(text, rem_words))\n",
    "\n",
    "        return df, cnt2\n"
   ]
  },
  {
   "cell_type": "markdown",
   "metadata": {},
   "source": [
    "#### 1.4.2 TF IDF Vectorizer class"
   ]
  },
  {
   "cell_type": "code",
   "execution_count": 38,
   "metadata": {
    "tags": []
   },
   "outputs": [],
   "source": [
    "# TF-IDF VECTORIZER CLASS\n",
    "import math\n",
    "from collections import Counter\n",
    "import numpy as np\n",
    "from nltk import FreqDist\n",
    "\n",
    "class TfIdfVectorizer:\n",
    "    def __init__(self, df):\n",
    "        self._idfs = self.prepare_idfs(df)\n",
    "        self._vocab = self.prepare_vocab(df)\n",
    "    \n",
    "    @property\n",
    "    def idfs(self):\n",
    "        return self._idfs\n",
    "    \n",
    "    @idfs.setter\n",
    "    def idfs(self, idfs):\n",
    "        self._idfs = idfs\n",
    "    \n",
    "    @property\n",
    "    def vocab(self):\n",
    "        return self._vocab\n",
    "    \n",
    "    @vocab.setter\n",
    "    def vocab(self, vocab):\n",
    "        self._vocab = vocab\n",
    "    \n",
    "    # Prepare and return vocab out of corpus\n",
    "    def prepare_vocab(self, df):\n",
    "        # Prepare the vocab\n",
    "        self.vocab = set(\" \".join(df['processed'].values).split())\n",
    "        self.vocab = dict.fromkeys(self.vocab, 0)\n",
    "        self.vocab.update((k, i) for i, k in enumerate(self.vocab))\n",
    "        return self.vocab\n",
    "    \n",
    "    # Prepare and return idfs out of corpus\n",
    "    def prepare_idfs(self, df):\n",
    "        # Counting how many reviews a word appears ins\n",
    "        cnt = Counter()\n",
    "        for text in df[\"processed\"].values:\n",
    "            for word in set(text.split()):\n",
    "                cnt[word] += 1\n",
    "        # Preparing the IDF vector\n",
    "        size = len(df)\n",
    "        self.idfs = dict()\n",
    "        for w, c in cnt.items():\n",
    "            self.idfs[w] = math.log(size / (1 + c))\n",
    "        return self.idfs\n",
    "\n",
    "\n",
    "    # TF-IDF vectorize a single text, returning an np.array\n",
    "    def tf_idf_vectorize(self, text):\n",
    "        freq_dist = FreqDist(text.split())\n",
    "        vector = np.zeros(len(self.vocab))\n",
    "        for w, c in freq_dist.items():\n",
    "            if w in self.vocab:\n",
    "                vector[self.vocab[w]] = c * self.idfs[w]\n",
    "        return vector\n",
    "\n",
    "\n",
    "    # One hot encode labels\n",
    "    def one_hot_encode(self, label, nr_of_labels):\n",
    "        arr = np.zeros(nr_of_labels, dtype=int)\n",
    "        arr[label] = 1\n",
    "        return arr\n",
    "\n",
    "    # Vectorize all in the dataset\n",
    "    def tf_idf_vectorize_all(self, df):\n",
    "        vectors = np.array(df['processed'].apply(lambda text: self.tf_idf_vectorize(text)).values.tolist())\n",
    "        return vectors\n",
    "    \n",
    "    # Turn all labels into one hot encoded arrays\n",
    "    def one_hot_encode_all(self, df, nr_of_labels):\n",
    "        vector = np.array(df['label'].apply(lambda label: self.one_hot_encode(label, nr_of_labels)).values.tolist())\n",
    "        return vector\n",
    "\n",
    "\n",
    "    "
   ]
  },
  {
   "cell_type": "markdown",
   "metadata": {
    "tags": []
   },
   "source": [
    "#### 1.4.3 Preprocessing"
   ]
  },
  {
   "cell_type": "code",
   "execution_count": 39,
   "metadata": {},
   "outputs": [
    {
     "name": "stderr",
     "output_type": "stream",
     "text": [
      "[nltk_data] Downloading package stopwords to\n",
      "[nltk_data]     C:\\Users\\abdka\\AppData\\Roaming\\nltk_data...\n",
      "[nltk_data]   Package stopwords is already up-to-date!\n",
      "[nltk_data] Downloading package wordnet to\n",
      "[nltk_data]     C:\\Users\\abdka\\AppData\\Roaming\\nltk_data...\n",
      "[nltk_data]   Package wordnet is already up-to-date!\n"
     ]
    },
    {
     "data": {
      "text/html": [
       "<div>\n",
       "<style scoped>\n",
       "    .dataframe tbody tr th:only-of-type {\n",
       "        vertical-align: middle;\n",
       "    }\n",
       "\n",
       "    .dataframe tbody tr th {\n",
       "        vertical-align: top;\n",
       "    }\n",
       "\n",
       "    .dataframe thead th {\n",
       "        text-align: right;\n",
       "    }\n",
       "</style>\n",
       "<table border=\"1\" class=\"dataframe\">\n",
       "  <thead>\n",
       "    <tr style=\"text-align: right;\">\n",
       "      <th></th>\n",
       "      <th>review</th>\n",
       "      <th>rate</th>\n",
       "      <th>label</th>\n",
       "      <th>rev_lens_raw</th>\n",
       "      <th>rev_lens_words</th>\n",
       "      <th>processed</th>\n",
       "    </tr>\n",
       "  </thead>\n",
       "  <tbody>\n",
       "    <tr>\n",
       "      <th>0</th>\n",
       "      <td>I can't for the life of me remember why--I mus...</td>\n",
       "      <td>1</td>\n",
       "      <td>0</td>\n",
       "      <td>2370</td>\n",
       "      <td>431</td>\n",
       "      <td>life remember must free ticket saw movie theat...</td>\n",
       "    </tr>\n",
       "    <tr>\n",
       "      <th>1</th>\n",
       "      <td>What I wouldn't do to give this film a re-writ...</td>\n",
       "      <td>4</td>\n",
       "      <td>0</td>\n",
       "      <td>910</td>\n",
       "      <td>157</td>\n",
       "      <td>would give film rewrite extra disappoint due g...</td>\n",
       "    </tr>\n",
       "    <tr>\n",
       "      <th>2</th>\n",
       "      <td>Well, the Sci-Fi channel keeps churning these ...</td>\n",
       "      <td>2</td>\n",
       "      <td>0</td>\n",
       "      <td>710</td>\n",
       "      <td>120</td>\n",
       "      <td>well scifi channel keep churn turkey seem get ...</td>\n",
       "    </tr>\n",
       "    <tr>\n",
       "      <th>3</th>\n",
       "      <td>1st watched 6/18/2009  2 out of 10 (Dir- Pete...</td>\n",
       "      <td>2</td>\n",
       "      <td>0</td>\n",
       "      <td>1448</td>\n",
       "      <td>264</td>\n",
       "      <td>watch dir pete weird psychotic movie girl test...</td>\n",
       "    </tr>\n",
       "    <tr>\n",
       "      <th>4</th>\n",
       "      <td>I recall seeing this movie as a kid. I don't r...</td>\n",
       "      <td>10</td>\n",
       "      <td>1</td>\n",
       "      <td>522</td>\n",
       "      <td>107</td>\n",
       "      <td>recall see movie kid recall saw must around ye...</td>\n",
       "    </tr>\n",
       "    <tr>\n",
       "      <th>...</th>\n",
       "      <td>...</td>\n",
       "      <td>...</td>\n",
       "      <td>...</td>\n",
       "      <td>...</td>\n",
       "      <td>...</td>\n",
       "      <td>...</td>\n",
       "    </tr>\n",
       "    <tr>\n",
       "      <th>34995</th>\n",
       "      <td>This is the last of four swashbucklers from Fr...</td>\n",
       "      <td>7</td>\n",
       "      <td>1</td>\n",
       "      <td>4436</td>\n",
       "      <td>721</td>\n",
       "      <td>last four france schedule view christmas seaso...</td>\n",
       "    </tr>\n",
       "    <tr>\n",
       "      <th>34996</th>\n",
       "      <td>The easiest way to describe this movie is as a...</td>\n",
       "      <td>3</td>\n",
       "      <td>0</td>\n",
       "      <td>2171</td>\n",
       "      <td>384</td>\n",
       "      <td>easy way describe movie satire target satire q...</td>\n",
       "    </tr>\n",
       "    <tr>\n",
       "      <th>34997</th>\n",
       "      <td>What a ridiculous waste of time and money!!!! ...</td>\n",
       "      <td>1</td>\n",
       "      <td>0</td>\n",
       "      <td>742</td>\n",
       "      <td>136</td>\n",
       "      <td>ridiculous waste time money movie big loser ye...</td>\n",
       "    </tr>\n",
       "    <tr>\n",
       "      <th>34998</th>\n",
       "      <td>I saw this back in '94 when it was finally rel...</td>\n",
       "      <td>4</td>\n",
       "      <td>0</td>\n",
       "      <td>606</td>\n",
       "      <td>108</td>\n",
       "      <td>saw back finally release apparently picture th...</td>\n",
       "    </tr>\n",
       "    <tr>\n",
       "      <th>34999</th>\n",
       "      <td>In the area of movies based off of screenplays...</td>\n",
       "      <td>10</td>\n",
       "      <td>1</td>\n",
       "      <td>3811</td>\n",
       "      <td>702</td>\n",
       "      <td>area movie base screenplay area whatever title...</td>\n",
       "    </tr>\n",
       "  </tbody>\n",
       "</table>\n",
       "<p>35000 rows × 6 columns</p>\n",
       "</div>"
      ],
      "text/plain": [
       "                                                  review  rate  label  \\\n",
       "0      I can't for the life of me remember why--I mus...     1      0   \n",
       "1      What I wouldn't do to give this film a re-writ...     4      0   \n",
       "2      Well, the Sci-Fi channel keeps churning these ...     2      0   \n",
       "3      1st watched 6/18/2009  2 out of 10 (Dir- Pete...     2      0   \n",
       "4      I recall seeing this movie as a kid. I don't r...    10      1   \n",
       "...                                                  ...   ...    ...   \n",
       "34995  This is the last of four swashbucklers from Fr...     7      1   \n",
       "34996  The easiest way to describe this movie is as a...     3      0   \n",
       "34997  What a ridiculous waste of time and money!!!! ...     1      0   \n",
       "34998  I saw this back in '94 when it was finally rel...     4      0   \n",
       "34999  In the area of movies based off of screenplays...    10      1   \n",
       "\n",
       "       rev_lens_raw  rev_lens_words  \\\n",
       "0              2370             431   \n",
       "1               910             157   \n",
       "2               710             120   \n",
       "3              1448             264   \n",
       "4               522             107   \n",
       "...             ...             ...   \n",
       "34995          4436             721   \n",
       "34996          2171             384   \n",
       "34997           742             136   \n",
       "34998           606             108   \n",
       "34999          3811             702   \n",
       "\n",
       "                                               processed  \n",
       "0      life remember must free ticket saw movie theat...  \n",
       "1      would give film rewrite extra disappoint due g...  \n",
       "2      well scifi channel keep churn turkey seem get ...  \n",
       "3      watch dir pete weird psychotic movie girl test...  \n",
       "4      recall see movie kid recall saw must around ye...  \n",
       "...                                                  ...  \n",
       "34995  last four france schedule view christmas seaso...  \n",
       "34996  easy way describe movie satire target satire q...  \n",
       "34997  ridiculous waste time money movie big loser ye...  \n",
       "34998  saw back finally release apparently picture th...  \n",
       "34999  area movie base screenplay area whatever title...  \n",
       "\n",
       "[35000 rows x 6 columns]"
      ]
     },
     "execution_count": 39,
     "metadata": {},
     "output_type": "execute_result"
    }
   ],
   "source": [
    "#Using the preprocessor\n",
    "preprocessor = TextPreprocessor()\n",
    "train_set_processed, cnt1 = preprocessor.preprocess_imdb_reviews(train_set, 0.85, 0.0005)\n",
    "test_set_processed, cnt2 = preprocessor.preprocess_imdb_reviews(test_set, 0.85, 0.0005)\n",
    "valid_set_processed, cnt3 = preprocessor.preprocess_imdb_reviews(valid_set, 0.85, 0.0005)\n",
    "\n",
    "train_set_processed"
   ]
  },
  {
   "cell_type": "markdown",
   "metadata": {},
   "source": [
    "#### 1.4.4 Checking preprocessed data"
   ]
  },
  {
   "cell_type": "code",
   "execution_count": 40,
   "metadata": {},
   "outputs": [],
   "source": [
    "# Data exploration\n",
    "# Most common words\n",
    "\n",
    "from collections import Counter\n",
    "cnt = Counter()\n",
    "cnt2 = Counter()\n",
    "for text in train_set_processed[\"processed\"].values:\n",
    "    # Counting the words\n",
    "    for word in text.split():\n",
    "        cnt[word] += 1\n",
    "    # Counting in how many reviews the word appears\n",
    "    for word in set(text.split()):\n",
    "        cnt2[word] += 1"
   ]
  },
  {
   "cell_type": "code",
   "execution_count": 41,
   "metadata": {},
   "outputs": [
    {
     "name": "stdout",
     "output_type": "stream",
     "text": [
      "Most common 20 counted by appearance in nr of reviews:  [('movie', 22411), ('film', 20510), ('one', 19663), ('make', 17703), ('like', 16998), ('see', 16926), ('good', 16352), ('get', 14864), ('time', 13671), ('would', 13272), ('watch', 12601), ('go', 12363), ('even', 11707), ('think', 11388), ('character', 11383), ('story', 10745), ('really', 10538), ('bad', 10468), ('much', 9697), ('say', 9418), ('look', 9410), ('well', 9401), ('could', 9380), ('great', 9321), ('know', 9248), ('act', 9211), ('give', 9140), ('scene', 9043), ('end', 9029), ('also', 8730), ('take', 8725), ('way', 8668), ('come', 8666), ('people', 8580), ('first', 8553), ('thing', 8280), ('show', 8202), ('find', 8153), ('play', 7844), ('love', 7718), ('seem', 7207), ('want', 7086), ('many', 7018), ('plot', 7003), ('work', 6965), ('never', 6943), ('actor', 6839), ('try', 6680), ('two', 6660), ('best', 6658), ('little', 6628), ('year', 6609), ('ever', 6566), ('still', 6063), ('life', 5942), ('something', 5579), ('feel', 5481), ('part', 5396), ('interest', 5322), ('use', 5316), ('lot', 5305), ('man', 5277), ('back', 5272), ('old', 4977), ('real', 4960), ('director', 4948), ('cast', 4893), ('another', 4818), ('performance', 4783), ('leave', 4778), ('though', 4736), ('actually', 4717), ('nothing', 4676), ('funny', 4585), ('start', 4578), ('big', 4571), ('tell', 4554), ('every', 4546), ('write', 4515), ('point', 4454), ('long', 4423), ('star', 4403), ('new', 4393), ('turn', 4373), ('live', 4336), ('become', 4261), ('fact', 4228), ('role', 4224), ('young', 4196), ('set', 4195), ('guy', 4191), ('quite', 4133), ('woman', 4132), ('u', 4097), ('around', 4092), ('day', 4056), ('pretty', 4020), ('minute', 4008), ('happen', 3937), ('enough', 3919), ('mean', 3911), ('right', 3882), ('world', 3856), ('late', 3840), ('need', 3834), ('without', 3822), ('however', 3818), ('saw', 3814), ('keep', 3811), ('must', 3768), ('put', 3759), ('bite', 3759), ('enjoy', 3749), ('least', 3725), ('may', 3704), ('line', 3690), ('script', 3677), ('always', 3658), ('fan', 3653), ('last', 3645), ('almost', 3635), ('begin', 3626), ('girl', 3620), ('whole', 3617), ('believe', 3611), ('anything', 3532), ('lead', 3485), ('friend', 3475), ('far', 3441), ('kill', 3420), ('kind', 3406), ('reason', 3397), ('might', 3394), ('place', 3387), ('since', 3354), ('comedy', 3329), ('probably', 3327), ('action', 3302), ('away', 3243), ('music', 3237), ('anyone', 3213), ('shoot', 3212), ('let', 3201), ('sure', 3194), ('call', 3189), ('laugh', 3183), ('original', 3142), ('run', 3137), ('effect', 3130), ('hard', 3128), ('help', 3116), ('yet', 3103), ('rather', 3094), ('name', 3075), ('especially', 3029), ('moment', 3021), ('read', 2995), ('family', 2973), ('course', 2969), ('expect', 2938), ('worth', 2931), ('idea', 2919), ('screen', 2909), ('recommend', 2887), ('tv', 2880), ('fun', 2868), ('horror', 2853), ('bring', 2853), ('although', 2848), ('audience', 2836), ('bore', 2829), ('kid', 2806), ('everything', 2795), ('move', 2790), ('high', 2772), ('job', 2770), ('sense', 2769), ('someone', 2752), ('main', 2678), ('different', 2675), ('maybe', 2661), ('true', 2655), ('everyone', 2651), ('direct', 2651), ('dvd', 2644), ('together', 2617), ('early', 2605), ('waste', 2604), ('mind', 2586), ('money', 2584), ('lose', 2583), ('understand', 2576), ('second', 2569), ('hear', 2568), ('instead', 2560), ('problem', 2559), ('fall', 2549), ('follow', 2527), ('series', 2518), ('child', 2500), ('sound', 2500), ('else', 2489), ('miss', 2484), ('view', 2468), ('beautiful', 2464), ('special', 2451), ('surprise', 2434), ('le', 2433), ('face', 2432), ('excellent', 2423), ('three', 2416), ('night', 2416), ('american', 2404), ('hour', 2390), ('include', 2366), ('classic', 2360), ('talk', 2349), ('remember', 2335), ('piece', 2334), ('open', 2322), ('viewer', 2306), ('appear', 2303), ('simply', 2291), ('short', 2288), ('rest', 2283), ('completely', 2282), ('change', 2268), ('head', 2260), ('attempt', 2260), ('nice', 2251), ('entertain', 2250), ('along', 2240), ('suppose', 2239), ('involve', 2229), ('poor', 2222), ('eye', 2214), ('couple', 2213), ('add', 2193), ('death', 2184), ('word', 2182), ('care', 2177), ('either', 2176), ('lack', 2169), ('book', 2162), ('meet', 2139), ('production', 2133), ('die', 2129), ('decide', 2126), ('truly', 2125), ('hand', 2123), ('home', 2114), ('wrong', 2111), ('version', 2110), ('picture', 2109), ('release', 2107), ('boy', 2104), ('john', 2102), ('wonder', 2097), ('feature', 2093), ('close', 2088), ('full', 2086), ('next', 2083), ('small', 2067), ('save', 2067), ('half', 2050), ('wife', 2022), ('camera', 2021), ('hollywood', 2017), ('top', 1992), ('fight', 1988), ('sit', 1983), ('sort', 1973), ('black', 1969), ('title', 1969), ('definitely', 1965), ('low', 1957), ('case', 1951), ('wonderful', 1946), ('consider', 1945), ('perhaps', 1940), ('create', 1940), ('dialogue', 1939), ('base', 1936), ('others', 1933), ('guess', 1931), ('person', 1929), ('absolutely', 1924), ('house', 1910), ('human', 1897), ('stupid', 1892), ('review', 1883), ('awful', 1883), ('dead', 1882), ('men', 1876), ('fine', 1872), ('comment', 1865), ('often', 1863), ('father', 1861), ('mention', 1860), ('perfect', 1859), ('light', 1854), ('video', 1845), ('experience', 1840), ('example', 1832), ('stand', 1827), ('certainly', 1824), ('terrible', 1821), ('episode', 1818), ('flick', 1809), ('style', 1807), ('stop', 1799), ('budget', 1794), ('entire', 1790), ('rat', 1786), ('war', 1782), ('felt', 1781), ('quality', 1779), ('hope', 1776), ('direction', 1774), ('spend', 1765), ('amaze', 1764), ('force', 1762), ('ask', 1757), ('buy', 1755), ('school', 1754), ('fail', 1744), ('finally', 1737), ('several', 1733), ('disappoint', 1731), ('age', 1729), ('song', 1718), ('matter', 1717), ('break', 1716), ('hold', 1716), ('deal', 1716), ('actress', 1712), ('writer', 1707), ('sequence', 1699), ('cinema', 1684), ('already', 1678), ('learn', 1674), ('throughout', 1673), ('favorite', 1672), ('forget', 1663), ('support', 1663), ('dark', 1655), ('drama', 1654), ('sex', 1645), ('hit', 1644), ('wait', 1637), ('joke', 1635), ('side', 1630), ('yes', 1618), ('final', 1617), ('cut', 1616), ('able', 1613), ('totally', 1608), ('manage', 1603), ('murder', 1591), ('throw', 1585), ('wish', 1578), ('speak', 1578), ('mother', 1574), ('pay', 1565), ('touch', 1561), ('portray', 1560), ('stay', 1560), ('realize', 1555), ('walk', 1549), ('despite', 1547), ('deserve', 1535), ('art', 1534), ('type', 1533), ('unfortunately', 1532), ('brother', 1531), ('credit', 1529), ('rent', 1520), ('oh', 1517), ('heart', 1517), ('win', 1513), ('mr', 1505), ('past', 1494), ('twist', 1490), ('present', 1489), ('history', 1486), ('humor', 1482), ('relationship', 1481), ('score', 1480), ('strong', 1479), ('white', 1477), ('catch', 1472), ('complete', 1471), ('chance', 1468), ('behind', 1460), ('today', 1458), ('stuff', 1456), ('overall', 1456), ('talent', 1456), ('obviously', 1455), ('genre', 1447), ('evil', 1433), ('except', 1420), ('annoy', 1414), ('car', 1414), ('order', 1406), ('theme', 1405), ('highly', 1404), ('horrible', 1402), ('situation', 1396), ('number', 1388), ('question', 1387), ('sometimes', 1384), ('strange', 1383), ('soon', 1380), ('grow', 1379), ('son', 1376), ('please', 1374), ('decent', 1374), ('figure', 1372), ('level', 1370), ('group', 1369), ('brilliant', 1356), ('event', 1355), ('element', 1349), ('hero', 1345), ('voice', 1343), ('slow', 1337), ('extremely', 1325), ('killer', 1317), ('return', 1312), ('power', 1309), ('simple', 1309), ('pick', 1308), ('cinematography', 1305), ('body', 1304), ('obvious', 1301), ('cause', 1292), ('particularly', 1292), ('result', 1291), ('ago', 1289), ('edit', 1286), ('build', 1284), ('opinion', 1283), ('pace', 1283), ('effort', 1276), ('offer', 1276), ('none', 1264), ('etc', 1257), ('deliver', 1256), ('exactly', 1256), ('serious', 1253), ('career', 1252), ('sad', 1251), ('city', 1250), ('state', 1247), ('explain', 1244), ('value', 1242), ('across', 1239), ('daughter', 1235), ('town', 1234), ('okay', 1233), ('god', 1232), ('possible', 1232), ('compare', 1230), ('usually', 1230), ('convince', 1229), ('allow', 1224), ('drive', 1221), ('alone', 1218), ('check', 1211), ('huge', 1208), ('stick', 1205), ('somewhat', 1201), ('blood', 1200), ('cool', 1196), ('theater', 1194), ('michael', 1194), ('pull', 1193), ('hell', 1190), ('robert', 1189), ('country', 1189), ('hilarious', 1188), ('female', 1184), ('provide', 1183), ('ridiculous', 1181), ('mostly', 1180), ('easy', 1179), ('note', 1178), ('seriously', 1174), ('prove', 1172), ('whose', 1166), ('usual', 1166), ('attention', 1164), ('reality', 1161), ('focus', 1160), ('single', 1156), ('violence', 1156), ('beyond', 1151), ('game', 1148), ('avoid', 1146), ('anyway', 1146), ('pas', 1146), ('due', 1141), ('draw', 1140), ('imagine', 1139), ('important', 1138), ('cheap', 1136), ('silly', 1135), ('basically', 1132), ('happy', 1132), ('arent', 1129), ('hop', 1127), ('dialog', 1127), ('shock', 1125), ('filmmaker', 1124), ('major', 1124), ('produce', 1119), ('crap', 1118), ('local', 1113), ('form', 1107), ('apparently', 1106), ('doubt', 1105), ('lady', 1104), ('charm', 1100), ('subject', 1098), ('room', 1095), ('clearly', 1094), ('shot', 1093), ('dance', 1092), ('dream', 1092), ('jam', 1091), ('cover', 1088), ('scary', 1087), ('remind', 1085), ('easily', 1085), ('steal', 1084), ('upon', 1081), ('husband', 1081), ('detail', 1081), ('remain', 1079), ('deep', 1076), ('sister', 1075), ('fit', 1073), ('clear', 1073), ('fill', 1073), ('thank', 1072), ('near', 1070), ('plan', 1067), ('discover', 1066), ('police', 1063), ('aspect', 1058), ('whether', 1057), ('similar', 1056), ('weak', 1056), ('agree', 1047), ('member', 1044), ('producer', 1044), ('carry', 1043), ('entertainment', 1042), ('capture', 1034), ('develop', 1034), ('within', 1031), ('enjoyable', 1029), ('english', 1028), ('middle', 1025), ('message', 1022), ('marry', 1020), ('david', 1019), ('nearly', 1017), ('predictable', 1017), ('modern', 1016), ('novel', 1016), ('certain', 1015), ('sing', 1014), ('tale', 1013), ('choose', 1010), ('escape', 1006), ('confuse', 1005), ('ten', 1002), ('storyline', 1002), ('soundtrack', 1001), ('bunch', 999), ('among', 997), ('date', 995), ('image', 995), ('future', 993), ('wear', 992), ('gore', 991), ('finish', 988), ('send', 985), ('parent', 978), ('fast', 978), ('sequel', 975), ('hate', 975), ('street', 975), ('five', 974), ('musical', 973), ('class', 973), ('four', 971), ('standard', 971), ('continue', 963), ('describe', 962), ('typical', 961), ('television', 961), ('dull', 956), ('romantic', 955), ('comic', 954), ('air', 954), ('mark', 953), ('sorry', 950), ('actual', 947), ('material', 946), ('contain', 945), ('emotion', 938), ('somehow', 937), ('thriller', 936), ('mess', 935), ('excite', 933), ('fantastic', 933), ('admit', 932), ('adult', 931), ('premise', 931), ('particular', 930), ('straight', 929), ('general', 928), ('rock', 928), ('famous', 927), ('suffer', 925), ('period', 924), ('appreciate', 919), ('mystery', 917), ('monster', 913), ('trouble', 912), ('documentary', 910), ('hide', 907), ('notice', 906), ('background', 906), ('cry', 904), ('oscar', 903), ('cop', 902), ('team', 901), ('treat', 900), ('copy', 898), ('possibly', 898), ('gun', 896), ('mix', 893), ('list', 892), ('realistic', 891), ('crime', 891), ('bother', 890), ('appeal', 890), ('spoiler', 889), ('large', 889), ('reveal', 889), ('fire', 888), ('bear', 885), ('difficult', 883), ('eventually', 883), ('believable', 881), ('lame', 878), ('earth', 877), ('masterpiece', 876), ('whatever', 873), ('victim', 873), ('villain', 871), ('blow', 870), ('beat', 867), ('issue', 864), ('george', 863), ('romance', 860), ('choice', 859), ('mistake', 858), ('chase', 858), ('otherwise', 858), ('attack', 857), ('suggest', 857), ('british', 856), ('hat', 853), ('average', 852), ('poorly', 848), ('unless', 845), ('third', 845), ('truth', 844), ('atmosphere', 843), ('forward', 843), ('screenplay', 839), ('suck', 839), ('indeed', 836), ('memorable', 836), ('free', 834), ('america', 831), ('emotional', 831), ('box', 829), ('dog', 828), ('suspense', 826), ('peter', 825), ('battle', 824), ('superb', 822), ('warn', 820), ('student', 819), ('male', 819), ('struggle', 814), ('cheesy', 813), ('space', 812), ('personal', 812), ('total', 812), ('previous', 809), ('imdb', 807), ('towards', 806), ('fear', 804), ('quickly', 803), ('front', 802), ('development', 802), ('incredibly', 801), ('weird', 800), ('beauty', 800), ('b', 800), ('amount', 798), ('french', 797), ('train', 797), ('king', 797), ('richard', 796), ('paul', 796), ('perfectly', 796), ('nature', 795), ('costume', 794), ('unique', 794), ('respect', 794), ('shame', 793), ('hot', 787), ('flaw', 786), ('york', 786), ('crazy', 786), ('remake', 785), ('eat', 783), ('season', 782), ('rich', 781), ('drug', 780), ('society', 780), ('secret', 777), ('lie', 774), ('fly', 772), ('promise', 772), ('inside', 772), ('project', 770), ('concern', 769), ('amuse', 769), ('party', 768), ('dumb', 767), ('plain', 766), ('sexual', 764), ('control', 764), ('water', 762), ('girlfriend', 762), ('scream', 762), ('plus', 762), ('tear', 761), ('week', 759), ('various', 758), ('recently', 758), ('term', 757), ('badly', 757), ('accent', 757), ('drink', 756), ('apart', 754), ('ok', 753), ('jump', 753), ('hardly', 753), ('fairly', 752), ('lover', 751), ('powerful', 751), ('dramatic', 750), ('award', 749), ('plenty', 747), ('location', 744), ('pure', 742), ('business', 742), ('jack', 740), ('bill', 739), ('serve', 737), ('portrayal', 737), ('success', 736), ('color', 736), ('track', 734), ('studio', 733), ('share', 732), ('roll', 731), ('adventure', 726), ('talented', 725), ('exist', 722), ('listen', 720), ('potential', 720), ('baby', 717), ('stage', 717), ('flat', 715), ('slightly', 715), ('western', 714), ('disturb', 713), ('spirit', 713), ('unlike', 713), ('cute', 712), ('outside', 712), ('store', 711), ('land', 708), ('design', 708), ('company', 707), ('answer', 706), ('concept', 706), ('appearance', 705), ('creepy', 704), ('red', 700), ('introduce', 699), ('tom', 698), ('perform', 696), ('clever', 695), ('rise', 695), ('dress', 694), ('animation', 691), ('fantasy', 689), ('reach', 689), ('sleep', 689), ('doctor', 689), ('crew', 686), ('memory', 685), ('footage', 685), ('ability', 684), ('taste', 684), ('claim', 683), ('odd', 683), ('depth', 682), ('intrigue', 681), ('sweet', 681), ('destroy', 681), ('neither', 680), ('entirely', 679), ('public', 678), ('accept', 678), ('incredible', 677), ('scifi', 676), ('kick', 676), ('ruin', 675), ('record', 674), ('spot', 674), ('era', 674), ('channel', 671), ('la', 670), ('popular', 670), ('tension', 668), ('nudity', 668), ('sadly', 668), ('brain', 668), ('language', 666), ('familiar', 666), ('visual', 666), ('positive', 665), ('inspire', 665), ('sell', 664), ('rate', 664), ('purpose', 662), ('master', 662), ('receive', 662), ('scar', 661), ('approach', 661), ('intelligent', 659), ('suddenly', 659), ('william', 655), ('engage', 651), ('political', 651), ('impress', 650), ('basic', 650), ('hang', 648), ('player', 648), ('drag', 647), ('recent', 647), ('successful', 647), ('maker', 645), ('de', 644), ('animal', 643), ('stun', 642), ('search', 642), ('tone', 642), ('dr', 642), ('handle', 640), ('century', 640), ('common', 640), ('extra', 638), ('step', 637), ('strike', 634), ('fake', 634), ('intend', 632), ('soldier', 632), ('ultimately', 632), ('wood', 631), ('barely', 630), ('former', 629), ('trip', 629), ('excuse', 629), ('solid', 628), ('relate', 628), ('conclusion', 625), ('social', 625), ('hole', 623), ('million', 623), ('hair', 619), ('somewhere', 617), ('soul', 617), ('door', 617), ('impossible', 616), ('reviewer', 616), ('trash', 614), ('mood', 614), ('travel', 612), ('suit', 612), ('lee', 611), ('difference', 610), ('fascinate', 610), ('raise', 609), ('cold', 608), ('fair', 607), ('match', 606), ('sick', 605), ('hurt', 605), ('pop', 603), ('literally', 603), ('suspect', 602), ('limit', 601), ('genius', 601), ('glad', 601), ('pointless', 601), ('sign', 600), ('honest', 600), ('impressive', 599), ('pathetic', 598), ('burn', 597), ('violent', 597), ('clothe', 596), ('culture', 596), ('wind', 596), ('repeat', 596), ('tire', 595), ('compel', 594), ('display', 594), ('visit', 593), ('immediately', 593), ('cartoon', 593), ('effective', 593), ('seek', 592), ('count', 592), ('drop', 591), ('teen', 591), ('dont', 590), ('awesome', 588), ('office', 588), ('critic', 587), ('survive', 585), ('redeem', 585), ('chemistry', 584), ('opportunity', 584), ('personality', 583), ('exception', 583), ('surprisingly', 581), ('ring', 580), ('bizarre', 579), ('cost', 578), ('haunt', 577), ('wild', 575), ('alive', 575), ('nobody', 575), ('aside', 574), ('blue', 573), ('paint', 572), ('adaptation', 571), ('expectation', 570), ('study', 569), ('beautifully', 568), ('smile', 568), ('impression', 568), ('subtle', 568), ('personally', 568), ('normal', 567), ('park', 567), ('band', 566), ('desire', 566), ('likely', 565), ('folk', 565), ('fashion', 565), ('cat', 564), ('cinematic', 564), ('edge', 564), ('rare', 563), ('utterly', 563), ('bar', 563), ('honestly', 561), ('smart', 560), ('regard', 560), ('yeah', 560), ('sexy', 558), ('ride', 558), ('creature', 558), ('gem', 558)]\n",
      "\n",
      "Most common 20 counted by word count total:  [('movie', 69535), ('film', 64702), ('one', 36942), ('make', 30977), ('like', 30232), ('see', 28414), ('good', 27829), ('get', 24913), ('would', 21692), ('time', 20821)]\n"
     ]
    },
    {
     "data": {
      "image/png": "[encoded data removed]",
      "text/plain": [
       "<Figure size 432x288 with 1 Axes>"
      ]
     },
     "metadata": {
      "needs_background": "light"
     },
     "output_type": "display_data"
    }
   ],
   "source": [
    "print(\"Most common 20 counted by appearance in nr of reviews: \", cnt2.most_common(1000))\n",
    "print(\"\\nMost common 20 counted by word count total: \", cnt.most_common(10))\n",
    "\n",
    "#print(\"Most common 50 counted by appearance in nr of reviews: \", cnt1.most_common(50))\n",
    "\n",
    "vocab_size = len(cnt2)\n",
    "sample_size = len(train_set)\n",
    "\n",
    "x = [c/sample_size * 100 for (w, c) in cnt2.most_common()]\n",
    "y = [c/vocab_size * 100 for c in range(1, vocab_size+1)]\n",
    "\n",
    "import matplotlib.pyplot as plt\n",
    "\n",
    "fig, ax = plt.subplots()\n",
    "\n",
    "ax.plot(x, y)\n",
    "ax.set_title(\"% of the words used in % of the documents\")\n",
    "ax.set_xscale('log')\n",
    "ax.set_xlabel(\"% of vocabolary\")\n",
    "ax.set_ylabel(\"% of documents\")\n",
    "plt.show()"
   ]
  },
  {
   "cell_type": "code",
   "execution_count": 44,
   "metadata": {},
   "outputs": [
    {
     "data": {
      "text/html": [
       "<div>\n",
       "<style scoped>\n",
       "    .dataframe tbody tr th:only-of-type {\n",
       "        vertical-align: middle;\n",
       "    }\n",
       "\n",
       "    .dataframe tbody tr th {\n",
       "        vertical-align: top;\n",
       "    }\n",
       "\n",
       "    .dataframe thead th {\n",
       "        text-align: right;\n",
       "    }\n",
       "</style>\n",
       "<table border=\"1\" class=\"dataframe\">\n",
       "  <thead>\n",
       "    <tr style=\"text-align: right;\">\n",
       "      <th></th>\n",
       "      <th>review</th>\n",
       "      <th>rate</th>\n",
       "      <th>label</th>\n",
       "      <th>rev_lens_raw</th>\n",
       "      <th>rev_lens_words</th>\n",
       "      <th>processed</th>\n",
       "    </tr>\n",
       "  </thead>\n",
       "  <tbody>\n",
       "    <tr>\n",
       "      <th>28788</th>\n",
       "      <td>This was obviously the worst movie ever made.....</td>\n",
       "      <td>1</td>\n",
       "      <td>0</td>\n",
       "      <td>497</td>\n",
       "      <td>83</td>\n",
       "      <td>obviously bad movie ever star role movie would...</td>\n",
       "    </tr>\n",
       "    <tr>\n",
       "      <th>7859</th>\n",
       "      <td>Joe Don Baker is one of a handful of actors wh...</td>\n",
       "      <td>8</td>\n",
       "      <td>1</td>\n",
       "      <td>1316</td>\n",
       "      <td>254</td>\n",
       "      <td>joe baker one handful actor often good materia...</td>\n",
       "    </tr>\n",
       "    <tr>\n",
       "      <th>16616</th>\n",
       "      <td>This movie was absolutely pathetic. A pitiful ...</td>\n",
       "      <td>2</td>\n",
       "      <td>0</td>\n",
       "      <td>702</td>\n",
       "      <td>125</td>\n",
       "      <td>movie absolutely pathetic pitiful screenplay l...</td>\n",
       "    </tr>\n",
       "    <tr>\n",
       "      <th>11902</th>\n",
       "      <td>I saw this movie on the film festival of Rotte...</td>\n",
       "      <td>3</td>\n",
       "      <td>0</td>\n",
       "      <td>2174</td>\n",
       "      <td>369</td>\n",
       "      <td>saw movie film festival jan follow discussion ...</td>\n",
       "    </tr>\n",
       "    <tr>\n",
       "      <th>22796</th>\n",
       "      <td>There isn't much to say about this film, it is...</td>\n",
       "      <td>1</td>\n",
       "      <td>0</td>\n",
       "      <td>549</td>\n",
       "      <td>102</td>\n",
       "      <td>much say film act dialog way far away even dec...</td>\n",
       "    </tr>\n",
       "    <tr>\n",
       "      <th>12925</th>\n",
       "      <td>This is one of the best episodes of Doctor Who...</td>\n",
       "      <td>10</td>\n",
       "      <td>1</td>\n",
       "      <td>692</td>\n",
       "      <td>122</td>\n",
       "      <td>one best episode doctor ever conversion unit m...</td>\n",
       "    </tr>\n",
       "    <tr>\n",
       "      <th>6747</th>\n",
       "      <td>The first episode of 'Man to Man with Dean Lea...</td>\n",
       "      <td>9</td>\n",
       "      <td>1</td>\n",
       "      <td>820</td>\n",
       "      <td>153</td>\n",
       "      <td>first episode man man dean air least scratch e...</td>\n",
       "    </tr>\n",
       "    <tr>\n",
       "      <th>3031</th>\n",
       "      <td>This is one of the best made movies from 2002....</td>\n",
       "      <td>9</td>\n",
       "      <td>1</td>\n",
       "      <td>1746</td>\n",
       "      <td>319</td>\n",
       "      <td>one best make movie maybe best movie look best...</td>\n",
       "    </tr>\n",
       "    <tr>\n",
       "      <th>32244</th>\n",
       "      <td>... but the keyword here is \"usually.\" I have ...</td>\n",
       "      <td>4</td>\n",
       "      <td>0</td>\n",
       "      <td>781</td>\n",
       "      <td>138</td>\n",
       "      <td>usually know adore movie everyone think dumb w...</td>\n",
       "    </tr>\n",
       "    <tr>\n",
       "      <th>10713</th>\n",
       "      <td>The way this story played out and the interact...</td>\n",
       "      <td>7</td>\n",
       "      <td>1</td>\n",
       "      <td>205</td>\n",
       "      <td>36</td>\n",
       "      <td>way story play interaction lead character may ...</td>\n",
       "    </tr>\n",
       "  </tbody>\n",
       "</table>\n",
       "</div>"
      ],
      "text/plain": [
       "                                                  review  rate  label  \\\n",
       "28788  This was obviously the worst movie ever made.....     1      0   \n",
       "7859   Joe Don Baker is one of a handful of actors wh...     8      1   \n",
       "16616  This movie was absolutely pathetic. A pitiful ...     2      0   \n",
       "11902  I saw this movie on the film festival of Rotte...     3      0   \n",
       "22796  There isn't much to say about this film, it is...     1      0   \n",
       "12925  This is one of the best episodes of Doctor Who...    10      1   \n",
       "6747   The first episode of 'Man to Man with Dean Lea...     9      1   \n",
       "3031   This is one of the best made movies from 2002....     9      1   \n",
       "32244  ... but the keyword here is \"usually.\" I have ...     4      0   \n",
       "10713  The way this story played out and the interact...     7      1   \n",
       "\n",
       "       rev_lens_raw  rev_lens_words  \\\n",
       "28788           497              83   \n",
       "7859           1316             254   \n",
       "16616           702             125   \n",
       "11902          2174             369   \n",
       "22796           549             102   \n",
       "12925           692             122   \n",
       "6747            820             153   \n",
       "3031           1746             319   \n",
       "32244           781             138   \n",
       "10713           205              36   \n",
       "\n",
       "                                               processed  \n",
       "28788  obviously bad movie ever star role movie would...  \n",
       "7859   joe baker one handful actor often good materia...  \n",
       "16616  movie absolutely pathetic pitiful screenplay l...  \n",
       "11902  saw movie film festival jan follow discussion ...  \n",
       "22796  much say film act dialog way far away even dec...  \n",
       "12925  one best episode doctor ever conversion unit m...  \n",
       "6747   first episode man man dean air least scratch e...  \n",
       "3031   one best make movie maybe best movie look best...  \n",
       "32244  usually know adore movie everyone think dumb w...  \n",
       "10713  way story play interaction lead character may ...  "
      ]
     },
     "execution_count": 44,
     "metadata": {},
     "output_type": "execute_result"
    }
   ],
   "source": [
    "train_set_processed.sample(10)"
   ]
  },
  {
   "cell_type": "markdown",
   "metadata": {},
   "source": [
    "#### 1.4.5 Vectorizing data sets using TF-IDF vectors"
   ]
  },
  {
   "cell_type": "code",
   "execution_count": 45,
   "metadata": {},
   "outputs": [],
   "source": [
    "# Get the IDF values and VOCAB vector\n",
    "vectorizer = TfIdfVectorizer(train_set_processed)\n",
    "idfs = vectorizer.idfs\n",
    "vocab = vectorizer.vocab"
   ]
  },
  {
   "cell_type": "code",
   "execution_count": 46,
   "metadata": {},
   "outputs": [],
   "source": [
    "# Vectorizing train set and test set\n",
    "X_train = vectorizer.tf_idf_vectorize_all(train_set_processed)\n",
    "\n",
    "X_test = vectorizer.tf_idf_vectorize_all(test_set_processed)\n",
    "\n",
    "X_valid = vectorizer.tf_idf_vectorize_all(valid_set_processed)\n",
    "\n",
    "Y_train = train_set_processed['label'].to_numpy()\n",
    "\n",
    "Y_test = test_set_processed['label'].to_numpy()\n",
    "\n",
    "Y_valid = valid_set_processed['label'].to_numpy()"
   ]
  },
  {
   "cell_type": "code",
   "execution_count": 48,
   "metadata": {},
   "outputs": [
    {
     "name": "stdout",
     "output_type": "stream",
     "text": [
      "1\n"
     ]
    },
    {
     "data": {
      "text/plain": [
       "1"
      ]
     },
     "execution_count": 48,
     "metadata": {},
     "output_type": "execute_result"
    }
   ],
   "source": [
    "# Check if labels fit\n",
    "index = random.randint(0, len(train_set))\n",
    "print(Y_train[index])\n",
    "train_set.loc[index, 'label']"
   ]
  },
  {
   "cell_type": "markdown",
   "metadata": {},
   "source": [
    "## 2. Set up genetic algorithm\n"
   ]
  },
  {
   "cell_type": "markdown",
   "metadata": {},
   "source": [
    "### 2.1 Classifier\n",
    "There are a lot of classifiers. I haven't any experience in most of them, just a little familiar with Neural Network thus this is what I did choose.\n",
    "\n",
    "The acitecture:\n",
    "len(vector) input Relu() --> 64 nodes --> softmax() --> output"
   ]
  },
  {
   "cell_type": "code",
   "execution_count": 49,
   "metadata": {
    "tags": []
   },
   "outputs": [],
   "source": [
    "class Classifier:\n",
    "    def __init__(self, idfs, vocab):\n",
    "        self.idfs = idfs\n",
    "        self.vocab = vocab\n",
    "        self.ws_1 = 0\n",
    "        self.ws_2 = 0\n",
    "        self.ws_3 = 0\n",
    "        self.ws_4 = 0\n",
    "        self.np_predictor = np.vectorize(lambda vec: self.predict(vec))\n",
    "        self.hn_1 = 0\n",
    "        self.hn_2 = 0\n",
    "        self.hn_3 = 0\n",
    "        self.in_vector = 0\n",
    "\n",
    "    # Initializing weights\n",
    "    def init_weights(self):\n",
    "        self.ws_1 = np.random.rand(self.in_vector, self.hn_1) - 0.5\n",
    "        self.ws_2 = np.random.rand(self.hn_1, self.hn_2) - 0.5\n",
    "        self.ws_3 = np.random.rand(self.hn_2, self.hn_3) - 0.5\n",
    "        self.ws_4 = np.random.rand(self.hn_3, 2) - 0.5\n",
    "        return self.ws_1, self.ws_2, self.ws_3, self.ws_4\n",
    "        \n",
    "    def set_weights(self, ws_1, ws_2, ws_3, ws_4):\n",
    "        self.ws_1 = ws_1\n",
    "        self.ws_2 = ws_2\n",
    "        self.ws_3 = ws_3\n",
    "        self.ws_4 = ws_4\n",
    "    \n",
    "    def set_hidden_nodes(self, in_vector, hn_1, hn_2, hn_3):\n",
    "        self.hn_1 = hn_1\n",
    "        self.hn_2 = hn_2\n",
    "        self.hn_3 = hn_3\n",
    "        self.in_vector = in_vector\n",
    "\n",
    "    def relu(self, x):\n",
    "        return (x > 0) * x\n",
    "    \n",
    "    def relu_grad(self, x):\n",
    "        return x > 0\n",
    "    \n",
    "    def sigmoid(self, x):\n",
    "        from scipy import special\n",
    "        return special.expit(x)\n",
    "    \n",
    "    def sigmoid_grad(self, x):\n",
    "        return self.sigmoid(x)*(1 - self.sigmoid(x))\n",
    "    \n",
    "    def softmax(self, x):\n",
    "        import numpy as np\n",
    "        e_x = np.exp(x - np.max(x))\n",
    "        return e_x / e_x.sum()\n",
    "        \n",
    "    def train_with_SGD(self, epochs, lr, x, y):\n",
    "        error_list = list()\n",
    "        mse_list = list()\n",
    "        \n",
    "        for n in range(epochs):\n",
    "            for i in range(x.shape[0]):\n",
    "                l_in = x[i:i+1]\n",
    "                l_o, l_4, l_3, l_2, l_1, s_1 = self.predict(l_in, True)           \n",
    "                \n",
    "                delta_2 = l_2 - y[i]\n",
    "                delta_1 = delta_2.dot(self.ws_2.T) * self.relu_grad(l_1)\n",
    "                \n",
    "                self.ws_2 -= lr * (l_1.T.reshape(self.hn_1,1).dot(delta_2))\n",
    "                self.ws_1 -= lr * (l_in.T.reshape(x.shape[1],1).dot(delta_1))\n",
    "\n",
    "                error = delta_2**2\n",
    "                    \n",
    "                error_list.append(error[0][0])\n",
    "            \n",
    "            mse_list.append(sum(error_list) / x.shape[0])\n",
    "            error_list = list()\n",
    "        \n",
    "        cel, output, acc = self.predict_whole_set(x, y)\n",
    "        \n",
    "        return mse_list, cel, output, acc\n",
    "                \n",
    "\n",
    "    def cross_entropy(self, p, y):\n",
    "        import numpy as np\n",
    "        return (-np.nan_to_num(np.eye(2)[y]*np.log(p))).mean() * 2\n",
    "    \n",
    "    def predict(self, x, get_all=False):\n",
    "        #forward pass/prediction\n",
    "        layer_1 = self.relu(x.dot(self.ws_1))\n",
    "        layer_2 = self.relu(layer_1.dot(self.ws_2))\n",
    "        layer_3 = self.relu(layer_2.dot(self.ws_3))\n",
    "        layer_4 = layer_3.dot(self.ws_4)\n",
    "        layer_out = self.softmax(layer_4)\n",
    "        if get_all:\n",
    "            return layer_out, layer_4, layer_3, layer_2, layer_1\n",
    "        else:\n",
    "            return layer_out\n",
    "    \n",
    "    def get_accuracy(self, y, p):\n",
    "        acc = np.sum((y == np.argmax(p, axis=1))) / len(y)\n",
    "        return acc\n",
    "    \n",
    "    \n",
    "    \n",
    "    def predict_whole_set(self, x, y, get_acc = True):\n",
    "        output = np.apply_along_axis(self.predict, 1, x)\n",
    "        cel = self.cross_entropy(output, y)\n",
    "        if get_acc:\n",
    "            acc = self.get_accuracy(y, output)\n",
    "        if get_acc:\n",
    "            acc = self.get_accuracy(y, output)\n",
    "            return cel, output, acc\n",
    "        else:\n",
    "            return cel, output\n",
    "    \n",
    "\n",
    "        "
   ]
  },
  {
   "cell_type": "markdown",
   "metadata": {},
   "source": [
    "#### PyTorch test"
   ]
  },
  {
   "cell_type": "code",
   "execution_count": 50,
   "metadata": {},
   "outputs": [],
   "source": [
    "import torch\n",
    "import torch.nn.functional as F\n",
    "from torch import nn\n",
    "from torch import optim"
   ]
  },
  {
   "cell_type": "code",
   "execution_count": 51,
   "metadata": {},
   "outputs": [],
   "source": [
    "# Training function\n",
    "\n",
    "def training(num_epochs, model, optimizer, criterion, train_loader, valid_loader, vocab_length):\n",
    "    results = list()\n",
    "    accuracies = list()\n",
    "    valid_results = list()\n",
    "    valid_accuracies = list()\n",
    "\n",
    "    #model.float()\n",
    "    for ep in range(num_epochs):\n",
    "        running_loss = 0\n",
    "        valid_loss = 0\n",
    "        total = 0\n",
    "        correct = 0\n",
    "        total_valid = 0\n",
    "        correct_valid = 0\n",
    "        model.train() # Set model into training mode\n",
    "        for batch in train_loader:\n",
    "            # We extract the images and labels from the batch\n",
    "            vector = batch[:, :vocab_length]\n",
    "            labels = batch[:, vocab_length]\n",
    "            labels = torch.tensor(labels, dtype=torch.long)\n",
    "            # This will prevent the gradient descents from the previous batches to accumulate. Without this the weight will get updated with the sum of\n",
    "            # all previos gradient descents, instead of the gradient descents on the current batch.\n",
    "            optimizer.zero_grad() \n",
    "            output = model(vector) # prediction / output from the model\n",
    "\n",
    "            loss = criterion(output, labels)  # We calculate the loss here\n",
    "            loss.backward() # Computes the derivative of the loss using backpropagation.\n",
    "            optimizer.step() # We update the weights\n",
    "\n",
    "            running_loss += loss.item() # Sum the loss here\n",
    "            _, predicted = torch.max(output.data, 1)\n",
    "            total += labels.size(0)\n",
    "            correct += (predicted == labels).sum().item()\n",
    "        else:\n",
    "            results.append(running_loss / len(train_loader))  # We append the mean loss into a list\n",
    "            accuracies.append(correct / total)\n",
    "    \n",
    "        # Validation part\n",
    "        model.eval()\n",
    "        with torch.no_grad(): # This will prevent calculation of gradient descents\n",
    "            for batch in valid_loader:\n",
    "                vector = batch[:, :vocab_length]\n",
    "                labels = batch[:, vocab_length]\n",
    "                valid_output = model(vector) # Prediciton\n",
    "                loss = criterion(valid_output, labels.long()) # Calculation of loss\n",
    "                valid_loss += loss.item() # Sum the loss\n",
    "\n",
    "                _, predicted = torch.max(valid_output.data, 1)\n",
    "                total_valid += labels.size(0)\n",
    "                correct_valid += (predicted == labels).sum().item()\n",
    "            else:\n",
    "                valid_results.append(valid_loss / len(valid_loader)) # Here we calculate the mean loss\n",
    "                valid_accuracies.append(correct_valid / total_valid)\n",
    "    return results, accuracies, valid_results, valid_accuracies"
   ]
  },
  {
   "cell_type": "code",
   "execution_count": 65,
   "metadata": {},
   "outputs": [],
   "source": [
    "learning_rate = 0.00005\n",
    "\n",
    "num_epochs = 8\n",
    "\n",
    "criterion = nn.CrossEntropyLoss()\n",
    "\n"
   ]
  },
  {
   "cell_type": "code",
   "execution_count": 66,
   "metadata": {},
   "outputs": [
    {
     "name": "stderr",
     "output_type": "stream",
     "text": [
      "<ipython-input-66-b33fb47361d0>:4: UserWarning: To copy construct from a tensor, it is recommended to use sourceTensor.clone().detach() or sourceTensor.clone().detach().requires_grad_(True), rather than torch.tensor(sourceTensor).\n",
      "  train_torch = torch.tensor(train_torch, dtype=torch.float)\n",
      "<ipython-input-66-b33fb47361d0>:9: UserWarning: To copy construct from a tensor, it is recommended to use sourceTensor.clone().detach() or sourceTensor.clone().detach().requires_grad_(True), rather than torch.tensor(sourceTensor).\n",
      "  valid_torch = torch.tensor(valid_torch, dtype=torch.float)\n"
     ]
    }
   ],
   "source": [
    "train_torch = np.c_[X_train, Y_train]\n",
    "\n",
    "train_torch = torch.from_numpy(train_torch)\n",
    "train_torch = torch.tensor(train_torch, dtype=torch.float)\n",
    "\n",
    "valid_torch = np.c_[X_valid, Y_valid]\n",
    "\n",
    "valid_torch = torch.from_numpy(valid_torch)\n",
    "valid_torch = torch.tensor(valid_torch, dtype=torch.float)"
   ]
  },
  {
   "cell_type": "code",
   "execution_count": 67,
   "metadata": {},
   "outputs": [],
   "source": [
    "train_loader = torch.utils.data.DataLoader(train_torch, batch_size=1, shuffle=True)\n",
    "valid_loader = torch.utils.data.DataLoader(valid_torch, batch_size=1, shuffle=True)"
   ]
  },
  {
   "cell_type": "code",
   "execution_count": 68,
   "metadata": {},
   "outputs": [],
   "source": [
    "model = nn.Sequential(nn.Linear(len(vocab), 16),\n",
    "                      nn.ReLU(),\n",
    "                      nn.Linear(16, 8),\n",
    "                      nn.ReLU(),\n",
    "                      nn.Linear(8, 8),\n",
    "                      nn.ReLU(),\n",
    "                      nn.Linear(8,2)\n",
    "                     )\n",
    "\n",
    "optimizer = optim.SGD(model.parameters(), lr = learning_rate)\n",
    "\n",
    "\n",
    "        \n",
    "        \n",
    "    "
   ]
  },
  {
   "cell_type": "code",
   "execution_count": 69,
   "metadata": {},
   "outputs": [
    {
     "name": "stderr",
     "output_type": "stream",
     "text": [
      "<ipython-input-51-14579e24792d>:22: UserWarning: To copy construct from a tensor, it is recommended to use sourceTensor.clone().detach() or sourceTensor.clone().detach().requires_grad_(True), rather than torch.tensor(sourceTensor).\n",
      "  labels = torch.tensor(labels, dtype=torch.long)\n"
     ]
    }
   ],
   "source": [
    "sgd_results, accuracies, sgd_results_valid, accuracies_valid = training(num_epochs, model, optimizer, criterion, train_loader, valid_loader, len(vocab))"
   ]
  },
  {
   "cell_type": "code",
   "execution_count": 70,
   "metadata": {},
   "outputs": [
    {
     "data": {
      "text/plain": [
       "8"
      ]
     },
     "execution_count": 70,
     "metadata": {},
     "output_type": "execute_result"
    }
   ],
   "source": [
    "len(sgd_results)"
   ]
  },
  {
   "cell_type": "code",
   "execution_count": 71,
   "metadata": {},
   "outputs": [
    {
     "data": {
      "image/png": "[encoded data removed]",
      "text/plain": [
       "<Figure size 720x360 with 1 Axes>"
      ]
     },
     "metadata": {
      "needs_background": "light"
     },
     "output_type": "display_data"
    },
    {
     "data": {
      "text/plain": [
       "8"
      ]
     },
     "execution_count": 71,
     "metadata": {},
     "output_type": "execute_result"
    }
   ],
   "source": [
    "x_axis = np.linspace(0, num_epochs, num_epochs)\n",
    "\n",
    "fig, ax = plt.subplots(figsize=(10,5))\n",
    "ax.plot(x_axis, sgd_results, label='Training')\n",
    "ax.plot(x_axis, sgd_results_valid, label='Validation')\n",
    "ax.set_ylabel(\"Mean CEL\")\n",
    "ax.set_xlabel(\"Epoch\")\n",
    "ax.grid()\n",
    "\n",
    "ax.set_yscale('log')\n",
    "#ax.set_xscale('log')\n",
    "\n",
    "plt.legend()\n",
    "\n",
    "plt.show()\n",
    "len(sgd_results)"
   ]
  },
  {
   "cell_type": "code",
   "execution_count": 72,
   "metadata": {},
   "outputs": [
    {
     "name": "stdout",
     "output_type": "stream",
     "text": [
      "0.6984349294594356\n",
      "0.32111552852796554\n",
      "0.5\n",
      "0.9110571428571429\n",
      "0.6932744906425476\n",
      "0.3572738931387057\n",
      "0.5\n",
      "0.8728\n"
     ]
    },
    {
     "data": {
      "text/plain": [
       "35000"
      ]
     },
     "execution_count": 72,
     "metadata": {},
     "output_type": "execute_result"
    }
   ],
   "source": [
    "print(sgd_results[0])\n",
    "print(sgd_results[-1])\n",
    "print(accuracies[0])\n",
    "print(accuracies[-1])\n",
    "print(sgd_results_valid[0])\n",
    "print(sgd_results_valid[-1])\n",
    "print(accuracies_valid[0])\n",
    "print(accuracies_valid[-1])\n",
    "len(train_loader)"
   ]
  },
  {
   "cell_type": "code",
   "execution_count": 73,
   "metadata": {},
   "outputs": [],
   "source": [
    "# Initialize classifier\n",
    "classifier = Classifier(idfs, vocab)"
   ]
  },
  {
   "cell_type": "code",
   "execution_count": 104,
   "metadata": {},
   "outputs": [
    {
     "name": "stdout",
     "output_type": "stream",
     "text": [
      "1.0076227196861143\n",
      "0.492\n",
      "2566\n"
     ]
    }
   ],
   "source": [
    "classifier.set_hidden_nodes(len(vocab), 16, 8, 8)\n",
    "classifier.init_weights()\n",
    "cel_pre, output, acc_pre = classifier.predict_whole_set(X_valid, Y_valid)\n",
    "print(cel_pre)\n",
    "print(acc_pre)\n",
    "\n",
    "print(sum(np.argmax(output, axis=1)))"
   ]
  },
  {
   "cell_type": "markdown",
   "metadata": {},
   "source": [
    "### 2.2 Chromosome\n",
    "It's just some weights that'll be used for classification"
   ]
  },
  {
   "cell_type": "code",
   "execution_count": 113,
   "metadata": {
    "tags": []
   },
   "outputs": [],
   "source": [
    "class Chromosome:\n",
    "    # x_pos and y_pos are the features of our chromosome\n",
    "    def __init__(self, ws_1, ws_2, ws_3, ws_4):\n",
    "        self._fitness = 0\n",
    "        self._ws_1 = ws_1\n",
    "        self._ws_2 = ws_2\n",
    "        self._ws_3 = ws_3\n",
    "        self._ws_4 = ws_4\n",
    "    \n",
    "    # Getters and setters\n",
    "    @property\n",
    "    def ws_1(self):\n",
    "        return self._ws_1\n",
    "    \n",
    "    @ws_1.setter\n",
    "    def ws_1(self, value):\n",
    "        self._ws_1 = value\n",
    "    \n",
    "    @property\n",
    "    def ws_2(self):\n",
    "        return self._ws_2\n",
    "    \n",
    "    @ws_2.setter\n",
    "    def ws_2(self, value):\n",
    "        self._ws_2 = value\n",
    "    \n",
    "    @property\n",
    "    def ws_3(self):\n",
    "        return self._ws_3\n",
    "    \n",
    "    @ws_3.setter\n",
    "    def ws_3(self, value):\n",
    "        self._ws_3 = value\n",
    "    \n",
    "    @property\n",
    "    def ws_4(self):\n",
    "        return self._ws_4\n",
    "    \n",
    "    @ws_4.setter\n",
    "    def ws_4(self, value):\n",
    "        self._ws_4 = value\n",
    "    \n",
    "    @property\n",
    "    def fitness(self):\n",
    "        return self._fitness\n",
    "    \n",
    "    @fitness.setter\n",
    "    def fitness(self, value):\n",
    "        self._fitness = value\n",
    "    \n",
    "    def __lt__(self, other):\n",
    "        return self.fitness < other.fitness\n",
    "\n",
    "    def __le__(self, other):\n",
    "        return self.fitness <= other.fitness\n",
    "    \n",
    "    def __eq__(self, other):\n",
    "        return self.fitness == other.fitness\n",
    "    \n",
    "    def __ne__(self, other):\n",
    "        return self.fitness != other.fitness\n",
    "    \n",
    "    def __ge__(self, other):\n",
    "        return self.fitness >= other.fitness\n",
    "    \n",
    "    def __gt__(self, other):\n",
    "        return self.fitness > other.fitness\n",
    "    \n",
    "    def assign_fitness(self, classifier, x, y):\n",
    "        import math\n",
    "        classifier.set_weights(self.ws_1, self.ws_2, self.ws_3, self.ws_4)\n",
    "        loss, _, acc = classifier.predict_whole_set(x, y, True)\n",
    "        self.fitness = acc #0 if loss <= 0 or loss == float('inf') else -math.log(1 / loss)\n",
    "    \n",
    "    # produce a new offspring from 2 parents\n",
    "    def crossover(self, other):\n",
    "        r = 2\n",
    "        \n",
    "        min_mat_1 = np.minimum(self.ws_1, other.ws_1)\n",
    "        max_mat_1 = np.maximum(self.ws_1, other.ws_1)\n",
    "        min_mat_2 = np.minimum(self.ws_2, other.ws_2)\n",
    "        max_mat_2 = np.maximum(self.ws_2, other.ws_2)\n",
    "        min_mat_3 = np.minimum(self.ws_3, other.ws_3)\n",
    "        max_mat_3 = np.maximum(self.ws_3, other.ws_3)\n",
    "        min_mat_4 = np.minimum(self.ws_4, other.ws_4)\n",
    "        max_mat_4 = np.maximum(self.ws_4, other.ws_4)\n",
    "        \n",
    "        ws_1 = np.random.uniform(min_mat_1-r, max_mat_1+r)\n",
    "        ws_2 = np.random.uniform(min_mat_2-r, max_mat_2+r)\n",
    "        ws_3 = np.random.uniform(min_mat_3-r, max_mat_3+r) \n",
    "        ws_4 = np.random.uniform(min_mat_4-r, max_mat_4+r) \n",
    "        \n",
    "        offspring = Chromosome(ws_1, ws_2, ws_3, ws_4)\n",
    "        return offspring\n",
    "\n",
    "    # mutate the individual\n",
    "    def mutate(self):\n",
    "        np.random.shuffle(self.ws_1)\n",
    "        self.ws_1 = self.ws_1 + np.random.uniform(-5, 5, size=self.ws_1.shape)\n",
    "        np.random.shuffle(self.ws_2)\n",
    "        self.ws_2 = self.ws_2 + np.random.uniform(-5, 5, size=self.ws_2.shape)\n",
    "        np.random.shuffle(self.ws_3)\n",
    "        self.ws_3 = self.ws_3 + np.random.uniform(-5, 5, size=self.ws_3.shape)\n",
    "        np.random.shuffle(self.ws_4)\n",
    "        self.ws_4 = self.ws_4 + np.random.uniform(-5, 5, size=self.ws_4.shape)\n",
    "        return\n",
    "    \n",
    "\n",
    "    \n",
    "\n"
   ]
  },
  {
   "cell_type": "markdown",
   "metadata": {},
   "source": [
    "### 2.3 Genetic Algorithm Engine\n",
    "\n",
    "Here I have divided the population in two: elite and population.\n",
    "Elite contains the population with highest fitness. This is to make sure if we find a very fit chromosome we don't lose it again because of cross overs or mutations.\n",
    "\n",
    "And we make the mutations first. We make mutations on the least fit chromosomes. Mutations are here are nothing more than just randomly generating a new chromosome.\n",
    "\n",
    "\n"
   ]
  },
  {
   "cell_type": "code",
   "execution_count": 114,
   "metadata": {
    "tags": []
   },
   "outputs": [],
   "source": [
    "class GAEngine:\n",
    "    def __init__(self, classifier):\n",
    "        self._population = []\n",
    "        self._generations = 0\n",
    "        self._classifier = classifier\n",
    "        self.elite = []\n",
    "        self.nr_of_elites = 0\n",
    "        self.to_mutate = []\n",
    "\n",
    "    def make_initial_population(self, population_size):       \n",
    "        for i in range(population_size):\n",
    "            ws_1, ws_2, ws_3, ws_4 = self.classifier.init_weights()\n",
    "            self.population.append(Chromosome(ws_1, ws_2, ws_3, ws_4))\n",
    "\n",
    "        \n",
    "    @property\n",
    "    def generations(self):\n",
    "        return self._generations\n",
    "    \n",
    "    @generations.setter\n",
    "    def generations(self, g):\n",
    "        self._generations = g\n",
    "    \n",
    "    @property\n",
    "    def population(self):\n",
    "        return self._population\n",
    "    \n",
    "    @population.setter\n",
    "    def population(self, p):\n",
    "        self._population = p\n",
    "    \n",
    "    @property\n",
    "    def classifier(self):\n",
    "        return self._classifier\n",
    "    \n",
    "    @classifier.setter\n",
    "    def classifier(self, cl):\n",
    "        self._classifier = cl\n",
    "    \n",
    "    # selection code goes here...\n",
    "    def do_crossover(self, elite_crossover_rate):\n",
    "        import random\n",
    "        population_size = len(self.population)\n",
    "        \n",
    "                \n",
    "        # Here we combine elitism selection with roulette wheel\n",
    "        # We carry some of the most fit over to the next generation.\n",
    "        # We do cross over with both the elite and other population\n",
    "        # Then we use roulette wheel because we want diversity too.\n",
    "        # We want diversity because it's hard to predict optimal weights\n",
    "        \n",
    "        no_of_elite_crossovers = int(elite_crossover_rate * population_size)\n",
    "        \n",
    "        other_offspring = population_size - no_of_elite_crossovers\n",
    "\n",
    "        new_generation = list()\n",
    "        \n",
    "        # Offsprings from the elite\n",
    "        for i in range(no_of_elite_crossovers):\n",
    "            parent1, parent2 = random.choices(self.elite, k=2)\n",
    "            offspring = parent1.crossover(parent2)\n",
    "            new_generation.append(offspring)\n",
    "        \n",
    "        # Weighted random choice\n",
    "        fitness_values = [x.fitness**2 for x in self.population]\n",
    "        \n",
    "        # Offsprings from other population\n",
    "        for i in range(other_offspring):\n",
    "            parent1, parent2 = random.choices(self.population, weights=fitness_values, k=2)\n",
    "            offspring = parent1.crossover(parent2)\n",
    "            new_generation.append(offspring)\n",
    "        \n",
    "        # The population is the new generation\n",
    "        self.population = new_generation\n",
    "        return\n",
    "    \n",
    "    \n",
    "    def do_mutation(self, no_of_mutation, x, y):\n",
    "        for i in range(no_of_mutation):\n",
    "            self.population[-i-1].mutate()\n",
    "            self.population[-i-1].assign_fitness(self.classifier, x, y)\n",
    "    \n",
    "    \n",
    "    # fitness calculation goes here...\n",
    "    def assign_fitness(self, x, y):\n",
    "        for ch in self.population:\n",
    "            ch.assign_fitness(self.classifier, x, y)\n",
    "        self.population = sorted(self.population, reverse=True)\n",
    "        self.update_elite()\n",
    "        return\n",
    "    \n",
    "    def get_population(self):\n",
    "        return self.population\n",
    "    \n",
    "    def update_elite(self):\n",
    "        if len(self.elite) == 0:\n",
    "            self.elite = self.population[-self.nr_of_elites:]\n",
    "            self.elite = sorted(self.elite, reverse=True)\n",
    "            return\n",
    "        i = 0\n",
    "        j = 0\n",
    "        while i < self.nr_of_elites and j < len(self.population):\n",
    "            if self.elite[i] < self.population[j]:\n",
    "                self.elite[i] = self.population[j]\n",
    "                i += 1\n",
    "                j += 1\n",
    "            else:\n",
    "                i += 1\n",
    "        \n",
    "        self.elite = sorted(self.elite, reverse=True)\n",
    "\n",
    "    \n",
    "    def get_best_chromosome(self):\n",
    "        return max(self.elite)\n",
    "    \n",
    "    # TRAINING ROUTINE\n",
    "    def training_routine(self, init_population, nr_of_generations, \n",
    "                        nr_of_mutation, nr_of_elites, elite_crossover_rate, x, y):\n",
    "        self.make_initial_population(init_population)\n",
    "        self.generations = nr_of_generations\n",
    "        self.nr_of_elites = nr_of_elites\n",
    "        \n",
    "        cels = list()\n",
    "\n",
    "\n",
    "        for i in range(self.generations):\n",
    "            self.assign_fitness(x, y)\n",
    "            self.update_elite()\n",
    "            cels.append(self.elite[-1].fitness)\n",
    "            \n",
    "            self.do_mutation(nr_of_mutation, x, y)\n",
    "            self.update_elite()\n",
    "            \n",
    "            self.do_crossover(elite_crossover_rate)\n",
    "            \n",
    "            \n",
    "\n",
    "        # Assign fitness last time before getting the best chromosome\n",
    "        self.assign_fitness(x, y)\n",
    "        self.update_elite()\n",
    "        cels.append(self.get_best_chromosome().fitness)\n",
    "        return self.get_best_chromosome(), cels"
   ]
  },
  {
   "cell_type": "markdown",
   "metadata": {
    "tags": []
   },
   "source": [
    "### 2.4 Optimizing classifier with Genetic Algorithm"
   ]
  },
  {
   "cell_type": "code",
   "execution_count": 139,
   "metadata": {
    "tags": []
   },
   "outputs": [
    {
     "name": "stderr",
     "output_type": "stream",
     "text": [
      "<ipython-input-49-64b0c61d8be3>:82: RuntimeWarning: divide by zero encountered in log\n",
      "  return (-np.nan_to_num(np.eye(2)[y]*np.log(p))).mean() * 2\n",
      "<ipython-input-49-64b0c61d8be3>:82: RuntimeWarning: invalid value encountered in multiply\n",
      "  return (-np.nan_to_num(np.eye(2)[y]*np.log(p))).mean() * 2\n"
     ]
    },
    {
     "name": "stdout",
     "output_type": "stream",
     "text": [
      "Wall time: 2min 57s\n"
     ]
    },
    {
     "data": {
      "text/plain": [
       "[0.4842666666666667,\n",
       " 0.49933333333333335,\n",
       " 0.5010666666666667,\n",
       " 0.49466666666666664,\n",
       " 0.49866666666666665,\n",
       " 0.5,\n",
       " 0.4998666666666667,\n",
       " 0.4948,\n",
       " 0.5002666666666666,\n",
       " 0.5006666666666667,\n",
       " 0.5282666666666667]"
      ]
     },
     "execution_count": 139,
     "metadata": {},
     "output_type": "execute_result"
    }
   ],
   "source": [
    "%%time\n",
    "# Here I run the GA engine\n",
    "classifier = Classifier(idfs, vocab)\n",
    "classifier.set_hidden_nodes(len(vocab), 16, 8, 8)\n",
    "\n",
    "ga = GAEngine(classifier)\n",
    "\n",
    "init_population = 20\n",
    "nr_of_generations = 10 \n",
    "nr_of_mutation = 10\n",
    "nr_of_elites = 10\n",
    "elite_crossover_rate = 0.\n",
    "\n",
    "ch, cels = ga.training_routine(init_population, \n",
    "                               nr_of_generations, \n",
    "                               nr_of_mutation,\n",
    "                               nr_of_elites, \n",
    "                               elite_crossover_rate, \n",
    "                               X_valid, Y_valid)\n",
    "cels\n"
   ]
  },
  {
   "cell_type": "code",
   "execution_count": 140,
   "metadata": {},
   "outputs": [],
   "source": [
    "# for i in range(3):\n",
    "#     print(\"pop\", ga.population[i].fitness)\n",
    "#     print(\"elite\", ga.elite[i].fitness)"
   ]
  },
  {
   "cell_type": "code",
   "execution_count": 141,
   "metadata": {
    "tags": []
   },
   "outputs": [
    {
     "data": {
      "image/png": "[encoded data removed]",
      "text/plain": [
       "<Figure size 432x288 with 1 Axes>"
      ]
     },
     "metadata": {
      "needs_background": "light"
     },
     "output_type": "display_data"
    }
   ],
   "source": [
    "# Plotting increase of fitness in training\n",
    "x = np.linspace(0, len(cels), len(cels))\n",
    "fig, ax = plt.subplots(1, 1)\n",
    "ax.plot(x, cels, label='fitness')\n",
    "\n",
    "plt.xlabel(\"Generations\")\n",
    "plt.ylabel(\"fitness\")\n",
    "plt.title(\"Change of fitness (fitness = accuracy)\")\n",
    "\n",
    "plt.grid()\n",
    "plt.show()\n"
   ]
  },
  {
   "cell_type": "markdown",
   "metadata": {},
   "source": [
    "## 3. Validation"
   ]
  },
  {
   "cell_type": "code",
   "execution_count": 142,
   "metadata": {},
   "outputs": [
    {
     "name": "stderr",
     "output_type": "stream",
     "text": [
      "<ipython-input-49-64b0c61d8be3>:82: RuntimeWarning: divide by zero encountered in log\n",
      "  return (-np.nan_to_num(np.eye(2)[y]*np.log(p))).mean() * 2\n",
      "<ipython-input-49-64b0c61d8be3>:82: RuntimeWarning: invalid value encountered in multiply\n",
      "  return (-np.nan_to_num(np.eye(2)[y]*np.log(p))).mean() * 2\n",
      "C:\\Users\\abdka\\anaconda3\\envs\\testing\\lib\\site-packages\\numpy\\core\\_methods.py:160: RuntimeWarning: overflow encountered in reduce\n",
      "  ret = umr_sum(arr, axis, dtype, out, keepdims)\n"
     ]
    }
   ],
   "source": [
    "classifier.set_weights(ch.ws_1, ch.ws_2, ch.ws_3, ch.ws_4)\n",
    "cel_post, output_post, acc_post = classifier.predict_whole_set(X_test, Y_test)"
   ]
  },
  {
   "cell_type": "code",
   "execution_count": 143,
   "metadata": {},
   "outputs": [
    {
     "name": "stdout",
     "output_type": "stream",
     "text": [
      "Accuracy before training:  0.492\n",
      "Accuracy after training:  0.5222666666666667\n",
      "CEL before training 1.0076227196861143\n",
      "CEL after training inf\n"
     ]
    }
   ],
   "source": [
    "print(\"Accuracy before training: \", acc_pre)\n",
    "print(\"Accuracy after training: \", acc_post)\n",
    "print(\"CEL before training\", cel_pre)\n",
    "print(\"CEL after training\", cel_post)"
   ]
  },
  {
   "cell_type": "code",
   "execution_count": null,
   "metadata": {},
   "outputs": [],
   "source": [
    "print(sum(np.argmax(output_post, axis=1)))"
   ]
  },
  {
   "cell_type": "markdown",
   "metadata": {},
   "source": [
    "## Draft codes"
   ]
  },
  {
   "cell_type": "code",
   "execution_count": 103,
   "metadata": {},
   "outputs": [
    {
     "name": "stderr",
     "output_type": "stream",
     "text": [
      "<ipython-input-103-b4c45037dd8a>:5: VisibleDeprecationWarning: Creating an ndarray from ragged nested sequences (which is a list-or-tuple of lists-or-tuples-or ndarrays with different lengths or shapes) is deprecated. If you meant to do this, you must specify 'dtype=object' when creating the ndarray\n",
      "  nparr3 = np.array([arr1, arr2, arr3])\n"
     ]
    },
    {
     "data": {
      "text/plain": [
       "array([[1, 3],\n",
       "       [3, 4],\n",
       "       [3, 4],\n",
       "       [3, 2],\n",
       "       [2, 1],\n",
       "       [9, 3]])"
      ]
     },
     "execution_count": 103,
     "metadata": {},
     "output_type": "execute_result"
    }
   ],
   "source": [
    "arr1 = [1,2,3]\n",
    "arr2 = [4,5]\n",
    "arr3 = [7,8, 9,10]\n",
    "\n",
    "nparr3 = np.array([arr1, arr2, arr3])\n",
    "nparr = np.array([[1,2,3],[3,4,5],[4,5,6]])\n",
    "nparr2 = np.array([[1, 3],[3, 4],[3,4],[3,2],[2,1],[9,3]])\n",
    "\n",
    "np.argmax(nparr2, axis=1)\n",
    "nparr2"
   ]
  },
  {
   "cell_type": "code",
   "execution_count": null,
   "metadata": {},
   "outputs": [],
   "source": [
    "np.random.rand(3, 2)"
   ]
  },
  {
   "cell_type": "code",
   "execution_count": null,
   "metadata": {},
   "outputs": [],
   "source": [
    "starr = np.array([\"thIs is Good\", \"this is BAD\", \"this is NOT so good\"])\n",
    "\n",
    "class test:\n",
    "    def __init__(self):\n",
    "        return\n",
    "    \n",
    "    def func(self, x, y):\n",
    "        x = x + y\n",
    "        return str.lower(x)\n",
    "    \n",
    "\n",
    "t = test()\n",
    "\n",
    "vecfunc = np.vectorize(t.func)\n",
    "\n",
    "vecfunc(starr, \"aaa\")"
   ]
  },
  {
   "cell_type": "code",
   "execution_count": null,
   "metadata": {},
   "outputs": [],
   "source": [
    "np.char.split(starr)"
   ]
  },
  {
   "cell_type": "code",
   "execution_count": null,
   "metadata": {},
   "outputs": [],
   "source": [
    "yy = [0, 1, 1]\n",
    "zz = [[0.5, 0.9],[0.5, 0.9], [0.5, 0.9]]\n",
    "np.eye(2)[yy]\n",
    "#-np.nan_to_num(yy*np.log(zz))"
   ]
  },
  {
   "cell_type": "code",
   "execution_count": null,
   "metadata": {},
   "outputs": [],
   "source": [
    "-np.log(0.9)"
   ]
  },
  {
   "cell_type": "code",
   "execution_count": null,
   "metadata": {},
   "outputs": [],
   "source": [
    "x = \"aaa\"\n",
    "y = x + \"bb\"\n",
    "y"
   ]
  },
  {
   "cell_type": "code",
   "execution_count": null,
   "metadata": {},
   "outputs": [],
   "source": [
    "%%time\n",
    "\" \".join(train_set['reviews'].values)"
   ]
  },
  {
   "cell_type": "code",
   "execution_count": 459,
   "metadata": {},
   "outputs": [
    {
     "ename": "NameError",
     "evalue": "name 'processor' is not defined",
     "output_type": "error",
     "traceback": [
      "\u001b[1;31m---------------------------------------------------------------------------\u001b[0m",
      "\u001b[1;31mNameError\u001b[0m                                 Traceback (most recent call last)",
      "\u001b[1;32m<ipython-input-459-10244696297b>\u001b[0m in \u001b[0;36m<module>\u001b[1;34m\u001b[0m\n\u001b[1;32m----> 1\u001b[1;33m \u001b[0mprocessor\u001b[0m\u001b[1;33m\u001b[0m\u001b[1;33m\u001b[0m\u001b[0m\n\u001b[0m",
      "\u001b[1;31mNameError\u001b[0m: name 'processor' is not defined"
     ]
    }
   ],
   "source": [
    "processor"
   ]
  },
  {
   "cell_type": "code",
   "execution_count": 828,
   "metadata": {},
   "outputs": [
    {
     "data": {
      "text/plain": [
       "2.718281828459045"
      ]
     },
     "execution_count": 828,
     "metadata": {},
     "output_type": "execute_result"
    }
   ],
   "source": [
    "np.exp(1)"
   ]
  },
  {
   "cell_type": "code",
   "execution_count": 61,
   "metadata": {},
   "outputs": [
    {
     "data": {
      "text/plain": [
       "array([[ 0.],\n",
       "       [ 1.],\n",
       "       [ 2.],\n",
       "       [ 3.],\n",
       "       [ 4.],\n",
       "       [ 5.],\n",
       "       [ 6.],\n",
       "       [ 7.],\n",
       "       [ 8.],\n",
       "       [ 9.],\n",
       "       [10.]], dtype=float32)"
      ]
     },
     "execution_count": 61,
     "metadata": {},
     "output_type": "execute_result"
    }
   ],
   "source": [
    "# create dummy data for training\n",
    "x_values = [i for i in range(11)]\n",
    "x_train = np.array(x_values, dtype=np.float32)\n",
    "x_train = x_train.reshape(-1, 1)\n",
    "\n",
    "y_values = [2*i + 1 for i in x_values]\n",
    "y_train = np.array(y_values, dtype=np.float32)\n",
    "y_train = y_train.reshape(-1, 1)\n",
    "\n",
    "x_train"
   ]
  },
  {
   "cell_type": "code",
   "execution_count": null,
   "metadata": {},
   "outputs": [],
   "source": []
  }
 ],
 "metadata": {
  "kernelspec": {
   "display_name": "Python 3",
   "language": "python",
   "name": "python3"
  },
  "language_info": {
   "codemirror_mode": {
    "name": "ipython",
    "version": 3
   },
   "file_extension": ".py",
   "mimetype": "text/x-python",
   "name": "python",
   "nbconvert_exporter": "python",
   "pygments_lexer": "ipython3",
   "version": "3.8.5"
  }
 },
 "nbformat": 4,
 "nbformat_minor": 4
}
